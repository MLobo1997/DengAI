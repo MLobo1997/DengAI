{
 "cells": [
  {
   "cell_type": "code",
   "execution_count": 1,
   "metadata": {},
   "outputs": [],
   "source": [
    "%load_ext autoreload\n",
    "import pandas as pd\n",
    "import numpy as np\n",
    "from sklearn.model_selection import RandomizedSearchCV\n",
    "from sklearn.neural_network import MLPRegressor\n",
    "from scipy.stats import randint as sp_randint\n",
    "from scipy.stats import uniform as sp_uniform\n",
    "import tensorflow as tf\n",
    "from tensorflow.keras import models\n",
    "from tensorflow.keras import layers\n",
    "from tensorflow.keras import optimizers"
   ]
  },
  {
   "cell_type": "code",
   "execution_count": 2,
   "metadata": {},
   "outputs": [
    {
     "name": "stdout",
     "output_type": "stream",
     "text": [
      "2.0.0-alpha0\n"
     ]
    }
   ],
   "source": [
    "print(tf.__version__)"
   ]
  },
  {
   "cell_type": "code",
   "execution_count": 3,
   "metadata": {},
   "outputs": [
    {
     "data": {
      "text/plain": [
       "['city',\n",
       " 'year',\n",
       " 'weekofyear',\n",
       " 'week_start_date',\n",
       " 'ndvi_ne',\n",
       " 'ndvi_nw',\n",
       " 'ndvi_se',\n",
       " 'ndvi_sw',\n",
       " 'precipitation_amt_mm',\n",
       " 'reanalysis_air_temp_k',\n",
       " 'reanalysis_avg_temp_k',\n",
       " 'reanalysis_dew_point_temp_k',\n",
       " 'reanalysis_max_air_temp_k',\n",
       " 'reanalysis_min_air_temp_k',\n",
       " 'reanalysis_precip_amt_kg_per_m2',\n",
       " 'reanalysis_relative_humidity_percent',\n",
       " 'reanalysis_sat_precip_amt_mm',\n",
       " 'reanalysis_specific_humidity_g_per_kg',\n",
       " 'reanalysis_tdtr_k',\n",
       " 'station_avg_temp_c',\n",
       " 'station_diur_temp_rng_c',\n",
       " 'station_max_temp_c',\n",
       " 'station_min_temp_c',\n",
       " 'station_precip_mm']"
      ]
     },
     "execution_count": 3,
     "metadata": {},
     "output_type": "execute_result"
    }
   ],
   "source": [
    "X_train_1 = pd.read_csv('data/dengue_features_train.csv')\n",
    "y_train = pd.read_csv('data/dengue_labels_train.csv')['total_cases']\n",
    "attr = list(X_train_1)\n",
    "attr"
   ]
  },
  {
   "cell_type": "markdown",
   "metadata": {},
   "source": [
    "## Cleaning the noisy training data"
   ]
  },
  {
   "cell_type": "code",
   "execution_count": 4,
   "metadata": {},
   "outputs": [
    {
     "data": {
      "text/plain": [
       "(1451, 24)"
      ]
     },
     "execution_count": 4,
     "metadata": {},
     "output_type": "execute_result"
    }
   ],
   "source": [
    "def bools_to_indexes(booleans):\n",
    "    r = []\n",
    "    for idx, x in enumerate(booleans):\n",
    "        if x:\n",
    "            r.append(idx)\n",
    "    return r\n",
    "\n",
    "idx = bools_to_indexes(X_train_1['weekofyear'] == 53)\n",
    "y_train.drop(idx, inplace=True)\n",
    "y_train.reset_index(drop=True, inplace=True)\n",
    "X_train_1.drop(idx, inplace=True)\n",
    "X_train_1.reset_index(drop=True, inplace=True)\n",
    "X_train_1.shape"
   ]
  },
  {
   "cell_type": "markdown",
   "metadata": {},
   "source": [
    "# Trying models"
   ]
  },
  {
   "cell_type": "code",
   "execution_count": 5,
   "metadata": {},
   "outputs": [],
   "source": [
    "score_metric='neg_mean_absolute_error'\n",
    "n_jobs=-1\n",
    "iid = False\n",
    "verbose_level = 2\n",
    "k_folds=10 \n",
    "n_iter_search=20"
   ]
  },
  {
   "cell_type": "markdown",
   "metadata": {},
   "source": [
    "## Simple MLP with Scikit-Learn\n",
    "* First we will try with a simple Multilayer Perceptron.\n",
    "* According to the book 'Hands-On Machine Learning with Scikit-Learn and TensorFlow: Concepts, Tools, and Techniques to Build Intelligent Systems', applying the RELU activation function to all the hidden layers is a good idea.\n",
    "* Here we will simply be searching through the different initial learning rates\n",
    "* The ideal number of layers appears to be 7, however the scores are still very high."
   ]
  },
  {
   "cell_type": "markdown",
   "metadata": {},
   "source": [
    "### Preparing the data"
   ]
  },
  {
   "cell_type": "code",
   "execution_count": 8,
   "metadata": {},
   "outputs": [
    {
     "data": {
      "text/plain": [
       "(1451, 40)"
      ]
     },
     "execution_count": 8,
     "metadata": {},
     "output_type": "execute_result"
    }
   ],
   "source": [
    "%autoreload\n",
    "from utils.OurPipeline import create_pipeline\n",
    "\n",
    "pipeline = create_pipeline(attr, n_weeks=1)\n",
    "X_train = pipeline.fit_transform(X_train_1)\n",
    "N, M = X_train.shape\n",
    "N, M "
   ]
  },
  {
   "cell_type": "markdown",
   "metadata": {},
   "source": [
    "#### Defining generic values"
   ]
  },
  {
   "cell_type": "code",
   "execution_count": 69,
   "metadata": {},
   "outputs": [],
   "source": [
    "activation = 'relu'\n",
    "train_algorithm = 'adam'\n",
    "learn_rate_mode = 'adaptive'\n",
    "learn_rate_val = 0.001\n",
    "batch_size = 200\n",
    "max_iter = 5000\n",
    "random_n = 42\n",
    "tol_val = 1e-4\n",
    "n_iter_tol = 20\n",
    "verb=False\n",
    "\n",
    "early_stop=True\n",
    "val_faction = 0.1\n",
    "\n",
    "params = {\n",
    "    #'hidden_layer_sizes': [sp_randint(30, 52), sp_randint(16, 30), sp_randint(4, 16)],\n",
    "    'learning_rate_init': sp_uniform(1e-4, 1)\n",
    "    \n",
    "}"
   ]
  },
  {
   "cell_type": "markdown",
   "metadata": {},
   "source": [
    "### 7-layer perceptron"
   ]
  },
  {
   "cell_type": "code",
   "execution_count": 77,
   "metadata": {},
   "outputs": [
    {
     "name": "stdout",
     "output_type": "stream",
     "text": [
      "Fitting 10 folds for each of 20 candidates, totalling 200 fits\n"
     ]
    },
    {
     "name": "stderr",
     "output_type": "stream",
     "text": [
      "[Parallel(n_jobs=-1)]: Using backend LokyBackend with 4 concurrent workers.\n",
      "[Parallel(n_jobs=-1)]: Done  33 tasks      | elapsed:    3.8s\n",
      "[Parallel(n_jobs=-1)]: Done 154 tasks      | elapsed:   30.3s\n",
      "[Parallel(n_jobs=-1)]: Done 200 out of 200 | elapsed:   35.0s finished\n"
     ]
    },
    {
     "data": {
      "text/plain": [
       "(MLPRegressor(activation='relu', alpha=0.0001, batch_size=200, beta_1=0.9,\n",
       "        beta_2=0.999, early_stopping=True, epsilon=1e-08,\n",
       "        hidden_layer_sizes=[35, 25, 20, 15, 10], learning_rate='adaptive',\n",
       "        learning_rate_init=0.04694728278293715, max_iter=5000, momentum=0.9,\n",
       "        n_iter_no_change=20, nesterovs_momentum=True, power_t=0.5,\n",
       "        random_state=42, shuffle=True, solver='adam', tol=0.0001,\n",
       "        validation_fraction=0.1, verbose=False, warm_start=False),\n",
       " -20.78080881244646)"
      ]
     },
     "execution_count": 77,
     "metadata": {},
     "output_type": "execute_result"
    }
   ],
   "source": [
    "neurons_per_layer = [35, 25, 20, 15, 10]\n",
    "\n",
    "mlp = MLPRegressor(hidden_layer_sizes=neurons_per_layer, activation=activation, max_iter=max_iter, solver=train_algorithm, learning_rate=learn_rate_mode, batch_size=batch_size, random_state=random_n, tol=tol_val, verbose=verb, early_stopping=early_stop, validation_fraction=val_faction, n_iter_no_change=n_iter_tol)\n",
    "MLP_Optimizer = RandomizedSearchCV(mlp, param_distributions=params, cv=k_folds, n_iter=n_iter_search, scoring=score_metric, n_jobs=n_jobs, verbose=verbose_level, iid=iid, return_train_score=True)\n",
    "MLP_Optimizer.fit(X_train, y_train)\n",
    "MLP_Optimizer.best_estimator_, MLP_Optimizer.best_score_"
   ]
  },
  {
   "cell_type": "markdown",
   "metadata": {},
   "source": [
    "### 6-layer perceptron"
   ]
  },
  {
   "cell_type": "code",
   "execution_count": 64,
   "metadata": {},
   "outputs": [
    {
     "name": "stdout",
     "output_type": "stream",
     "text": [
      "Fitting 10 folds for each of 20 candidates, totalling 200 fits\n"
     ]
    },
    {
     "name": "stderr",
     "output_type": "stream",
     "text": [
      "[Parallel(n_jobs=-1)]: Using backend LokyBackend with 4 concurrent workers.\n",
      "[Parallel(n_jobs=-1)]: Done  33 tasks      | elapsed:    2.9s\n",
      "[Parallel(n_jobs=-1)]: Done 154 tasks      | elapsed:   24.0s\n",
      "[Parallel(n_jobs=-1)]: Done 200 out of 200 | elapsed:   28.4s finished\n"
     ]
    },
    {
     "data": {
      "text/plain": [
       "(MLPRegressor(activation='relu', alpha=0.0001, batch_size=200, beta_1=0.9,\n",
       "        beta_2=0.999, early_stopping=True, epsilon=1e-08,\n",
       "        hidden_layer_sizes=[35, 25, 15, 10], learning_rate='adaptive',\n",
       "        learning_rate_init=0.0866318376475216, max_iter=5000, momentum=0.9,\n",
       "        n_iter_no_change=20, nesterovs_momentum=True, power_t=0.5,\n",
       "        random_state=42, shuffle=True, solver='adam', tol=0.0001,\n",
       "        validation_fraction=0.1, verbose=False, warm_start=False),\n",
       " -19.513873846292523)"
      ]
     },
     "execution_count": 64,
     "metadata": {},
     "output_type": "execute_result"
    }
   ],
   "source": [
    "neurons_per_layer = [35, 25, 15, 10]\n",
    "\n",
    "mlp = MLPRegressor(hidden_layer_sizes=neurons_per_layer, activation=activation, max_iter=max_iter, solver=train_algorithm, learning_rate=learn_rate_mode, batch_size=batch_size, random_state=random_n, tol=tol_val, verbose=verb, early_stopping=early_stop, validation_fraction=val_faction, n_iter_no_change=n_iter_tol)\n",
    "MLP_Optimizer = RandomizedSearchCV(mlp, param_distributions=params, cv=k_folds, n_iter=n_iter_search, scoring=score_metric, n_jobs=n_jobs, verbose=verbose_level, iid=iid, return_train_score=True)\n",
    "MLP_Optimizer.fit(X_train, y_train)\n",
    "MLP_Optimizer.best_estimator_, MLP_Optimizer.best_score_"
   ]
  },
  {
   "cell_type": "markdown",
   "metadata": {},
   "source": [
    "### 5-layer perceptron"
   ]
  },
  {
   "cell_type": "code",
   "execution_count": 71,
   "metadata": {},
   "outputs": [
    {
     "name": "stdout",
     "output_type": "stream",
     "text": [
      "Fitting 10 folds for each of 20 candidates, totalling 200 fits\n"
     ]
    },
    {
     "name": "stderr",
     "output_type": "stream",
     "text": [
      "[Parallel(n_jobs=-1)]: Using backend LokyBackend with 4 concurrent workers.\n",
      "[Parallel(n_jobs=-1)]: Done  33 tasks      | elapsed:    9.2s\n",
      "[Parallel(n_jobs=-1)]: Done 154 tasks      | elapsed:   33.8s\n",
      "[Parallel(n_jobs=-1)]: Done 200 out of 200 | elapsed:   40.3s finished\n"
     ]
    },
    {
     "data": {
      "text/plain": [
       "(MLPRegressor(activation='relu', alpha=0.0001, batch_size=200, beta_1=0.9,\n",
       "        beta_2=0.999, early_stopping=True, epsilon=1e-08,\n",
       "        hidden_layer_sizes=[35, 20, 10], learning_rate='adaptive',\n",
       "        learning_rate_init=0.134954482930001, max_iter=5000, momentum=0.9,\n",
       "        n_iter_no_change=20, nesterovs_momentum=True, power_t=0.5,\n",
       "        random_state=42, shuffle=True, solver='adam', tol=0.0001,\n",
       "        validation_fraction=0.1, verbose=False, warm_start=False),\n",
       " -21.349379403662667)"
      ]
     },
     "execution_count": 71,
     "metadata": {},
     "output_type": "execute_result"
    }
   ],
   "source": [
    "neurons_per_layer = [35, 20, 10]\n",
    "\n",
    "mlp = MLPRegressor(hidden_layer_sizes=neurons_per_layer, activation=activation, max_iter=max_iter, solver=train_algorithm, learning_rate=learn_rate_mode, batch_size=batch_size, random_state=random_n, tol=tol_val, verbose=verb, early_stopping=early_stop, validation_fraction=val_faction, n_iter_no_change=n_iter_tol)\n",
    "MLP_Optimizer = RandomizedSearchCV(mlp, param_distributions=params, cv=k_folds, n_iter=n_iter_search, scoring=score_metric, n_jobs=n_jobs, verbose=verbose_level, iid=iid, return_train_score=True)\n",
    "MLP_Optimizer.fit(X_train, y_train)\n",
    "MLP_Optimizer.best_estimator_, MLP_Optimizer.best_score_"
   ]
  },
  {
   "cell_type": "markdown",
   "metadata": {},
   "source": [
    "### 4-layer perceptron"
   ]
  },
  {
   "cell_type": "code",
   "execution_count": 73,
   "metadata": {},
   "outputs": [
    {
     "name": "stdout",
     "output_type": "stream",
     "text": [
      "Fitting 10 folds for each of 20 candidates, totalling 200 fits\n"
     ]
    },
    {
     "name": "stderr",
     "output_type": "stream",
     "text": [
      "[Parallel(n_jobs=-1)]: Using backend LokyBackend with 4 concurrent workers.\n",
      "[Parallel(n_jobs=-1)]: Done  33 tasks      | elapsed:    3.0s\n",
      "[Parallel(n_jobs=-1)]: Done 154 tasks      | elapsed:   15.8s\n",
      "[Parallel(n_jobs=-1)]: Done 200 out of 200 | elapsed:   21.0s finished\n"
     ]
    },
    {
     "data": {
      "text/plain": [
       "(MLPRegressor(activation='relu', alpha=0.0001, batch_size=200, beta_1=0.9,\n",
       "        beta_2=0.999, early_stopping=True, epsilon=1e-08,\n",
       "        hidden_layer_sizes=[30, 15], learning_rate='adaptive',\n",
       "        learning_rate_init=0.09571433102280714, max_iter=5000, momentum=0.9,\n",
       "        n_iter_no_change=20, nesterovs_momentum=True, power_t=0.5,\n",
       "        random_state=42, shuffle=True, solver='adam', tol=0.0001,\n",
       "        validation_fraction=0.1, verbose=False, warm_start=False),\n",
       " -21.32883347845756)"
      ]
     },
     "execution_count": 73,
     "metadata": {},
     "output_type": "execute_result"
    }
   ],
   "source": [
    "neurons_per_layer = [30, 15]\n",
    "\n",
    "mlp = MLPRegressor(hidden_layer_sizes=neurons_per_layer, activation=activation, max_iter=max_iter, solver=train_algorithm, learning_rate=learn_rate_mode, batch_size=batch_size, random_state=random_n, tol=tol_val, verbose=verb, early_stopping=early_stop, validation_fraction=val_faction, n_iter_no_change=n_iter_tol)\n",
    "MLP_Optimizer = RandomizedSearchCV(mlp, param_distributions=params, cv=k_folds, n_iter=n_iter_search, scoring=score_metric, n_jobs=n_jobs, verbose=verbose_level, iid=iid, return_train_score=True)\n",
    "MLP_Optimizer.fit(X_train, y_train)\n",
    "MLP_Optimizer.best_estimator_, MLP_Optimizer.best_score_"
   ]
  },
  {
   "cell_type": "markdown",
   "metadata": {},
   "source": [
    "## Simple MLP with Keras on top of Tensorflow\n",
    "* We will just try the amount of layers (6) which gave the ideal results with the Sci-kit API. \n",
    "* The first layer cannot use the activation function RELU given that the data was standardized.\n",
    "* Sigmoid is okay given that its codomain is between 0 and 1 and that the RELU is linear above 0."
   ]
  },
  {
   "cell_type": "code",
   "execution_count": 146,
   "metadata": {},
   "outputs": [],
   "source": [
    "learn_rate = 0.0001\n",
    "optim = optimizers.Adam(lr=learn_rate)\n",
    "loss_fun = 'mae'"
   ]
  },
  {
   "cell_type": "code",
   "execution_count": 148,
   "metadata": {},
   "outputs": [
    {
     "name": "stdout",
     "output_type": "stream",
     "text": [
      "Model: \"sequential_36\"\n",
      "_________________________________________________________________\n",
      "Layer (type)                 Output Shape              Param #   \n",
      "=================================================================\n",
      "dense_198 (Dense)            (None, 40)                1640      \n",
      "_________________________________________________________________\n",
      "dense_199 (Dense)            (None, 35)                1435      \n",
      "_________________________________________________________________\n",
      "dense_200 (Dense)            (None, 25)                900       \n",
      "_________________________________________________________________\n",
      "dense_201 (Dense)            (None, 15)                390       \n",
      "_________________________________________________________________\n",
      "dense_202 (Dense)            (None, 10)                160       \n",
      "_________________________________________________________________\n",
      "dense_203 (Dense)            (None, 1)                 11        \n",
      "=================================================================\n",
      "Total params: 4,536\n",
      "Trainable params: 4,536\n",
      "Non-trainable params: 0\n",
      "_________________________________________________________________\n"
     ]
    },
    {
     "data": {
      "image/png": "[encoded data removed]",
      "text/plain": [
       "<Figure size 432x288 with 1 Axes>"
      ]
     },
     "metadata": {
      "needs_background": "light"
     },
     "output_type": "display_data"
    }
   ],
   "source": [
    "%autoreload\n",
    "from utils.MLP import create_mlp\n",
    "neurons_per_layer = [35, 25, 15, 10]\n",
    "\n",
    "network = create_mlp(neurons_per_layer=neurons_per_layer, nr_of_features=M, optim_func=optim, loss_func=loss_fun)\n",
    "network.summary()\n",
    "\n",
    "from utils.print_history_loss import print_history_loss\n",
    "\n",
    "history_fit = network.fit(X_train, y_train, epochs=175, batch_size=150, verbose=0, validation_split=0.5, shuffle=True)\n",
    "print_history_loss(history_fit)"
   ]
  },
  {
   "cell_type": "markdown",
   "metadata": {},
   "source": [
    "## Stratified sampling\n",
    "* The learning curves obtained above are very odd. The validation starts with a very small loss that starts increasing as the model overfits the training data. This is probably because the validation data is very \"easy\" to predict or all the same. We are going to apply stratified sampling  in order to try and fix this. Y is a continuous variable, therefore stratification is tricky.\n",
    "* Stratified sampling result was absolutely what we needed as we can see in the learning curves below. It made the train and test data more similar."
   ]
  },
  {
   "cell_type": "code",
   "execution_count": 149,
   "metadata": {},
   "outputs": [
    {
     "data": {
      "text/plain": [
       "((725, 40), (725,), (726, 40), (726,))"
      ]
     },
     "execution_count": 149,
     "metadata": {},
     "output_type": "execute_result"
    }
   ],
   "source": [
    "from sklearn.model_selection import StratifiedShuffleSplit\n",
    "#train_strat, test_strat = sss.split(X_train, y_train)\n",
    "\n",
    "# Create the bins. Given that y is not uniformly distributed at all (as you can see in the analysis notebook histogram), we created bins every 100 values.\n",
    "y_sorted = np.sort(y_train)\n",
    "bins = []\n",
    "for idx, val in enumerate(y_sorted):\n",
    "    if (idx % 100) == 0:\n",
    "        bins.append(val)\n",
    "\n",
    "# Save your Y values in a new ndarray,\n",
    "# broken down by the bins created above.\n",
    "\n",
    "y_binned = np.digitize(y_train, bins)\n",
    "\n",
    "sss = StratifiedShuffleSplit(n_splits=1, train_size=0.5, random_state=42)\n",
    "for train_index, test_index in sss.split(X_train, y_binned):\n",
    "    X_train_strat, X_test_strat = X_train[train_index], X_train[test_index]\n",
    "    y_train_strat, y_test_strat = y_train[train_index], y_train[test_index]\n",
    "    \n",
    "X_train_strat.shape, y_train_strat.shape, X_test_strat.shape, y_test_strat.shape"
   ]
  },
  {
   "cell_type": "code",
   "execution_count": 150,
   "metadata": {},
   "outputs": [
    {
     "name": "stdout",
     "output_type": "stream",
     "text": [
      "Model: \"sequential_37\"\n",
      "_________________________________________________________________\n",
      "Layer (type)                 Output Shape              Param #   \n",
      "=================================================================\n",
      "dense_204 (Dense)            (None, 40)                1640      \n",
      "_________________________________________________________________\n",
      "dense_205 (Dense)            (None, 35)                1435      \n",
      "_________________________________________________________________\n",
      "dense_206 (Dense)            (None, 25)                900       \n",
      "_________________________________________________________________\n",
      "dense_207 (Dense)            (None, 15)                390       \n",
      "_________________________________________________________________\n",
      "dense_208 (Dense)            (None, 10)                160       \n",
      "_________________________________________________________________\n",
      "dense_209 (Dense)            (None, 1)                 11        \n",
      "=================================================================\n",
      "Total params: 4,536\n",
      "Trainable params: 4,536\n",
      "Non-trainable params: 0\n",
      "_________________________________________________________________\n"
     ]
    },
    {
     "data": {
      "image/png": "[encoded data removed]",
      "text/plain": [
       "<Figure size 432x288 with 1 Axes>"
      ]
     },
     "metadata": {
      "needs_background": "light"
     },
     "output_type": "display_data"
    }
   ],
   "source": [
    "%autoreload\n",
    "from utils.MLP import create_mlp\n",
    "neurons_per_layer = [35, 25, 15, 10]\n",
    "\n",
    "network = create_mlp(neurons_per_layer=neurons_per_layer, nr_of_features=M, optim_func=optim, loss_func=loss_fun)\n",
    "network.summary()\n",
    "\n",
    "from utils.print_history_loss import print_history_loss\n",
    "\n",
    "history_fit = network.fit(X_train_strat, y_train_strat, validation_data=(X_test_strat, y_test_strat), epochs=500, batch_size=150, verbose=0, shuffle=True)\n",
    "print_history_loss(history_fit)"
   ]
  },
  {
   "cell_type": "code",
   "execution_count": 88,
   "metadata": {},
   "outputs": [
    {
     "data": {
      "text/plain": [
       "0"
      ]
     },
     "execution_count": 88,
     "metadata": {},
     "output_type": "execute_result"
    }
   ],
   "source": [
    "20 % 10"
   ]
  }
 ],
 "metadata": {
  "kernelspec": {
   "display_name": "Python 3",
   "language": "python",
   "name": "python3"
  },
  "language_info": {
   "codemirror_mode": {
    "name": "ipython",
    "version": 3
   },
   "file_extension": ".py",
   "mimetype": "text/x-python",
   "name": "python",
   "nbconvert_exporter": "python",
   "pygments_lexer": "ipython3",
   "version": "3.7.2"
  }
 },
 "nbformat": 4,
 "nbformat_minor": 2
}
