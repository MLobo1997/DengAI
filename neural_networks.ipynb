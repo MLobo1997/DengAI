{
 "cells": [
  {
   "cell_type": "code",
   "execution_count": 38,
   "metadata": {},
   "outputs": [
    {
     "name": "stdout",
     "output_type": "stream",
     "text": [
      "The autoreload extension is already loaded. To reload it, use:\n",
      "  %reload_ext autoreload\n"
     ]
    }
   ],
   "source": [
    "%load_ext autoreload\n",
    "import pandas as pd\n",
    "import numpy as np\n",
    "from sklearn.model_selection import RandomizedSearchCV\n",
    "from sklearn.neural_network import MLPRegressor\n",
    "from scipy.stats import randint as sp_randint\n",
    "from scipy.stats import uniform as sp_uniform"
   ]
  },
  {
   "cell_type": "markdown",
   "metadata": {},
   "source": [
    "# Loading the Data"
   ]
  },
  {
   "cell_type": "code",
   "execution_count": 2,
   "metadata": {},
   "outputs": [
    {
     "data": {
      "text/plain": [
       "['city',\n",
       " 'year',\n",
       " 'weekofyear',\n",
       " 'week_start_date',\n",
       " 'ndvi_ne',\n",
       " 'ndvi_nw',\n",
       " 'ndvi_se',\n",
       " 'ndvi_sw',\n",
       " 'precipitation_amt_mm',\n",
       " 'reanalysis_air_temp_k',\n",
       " 'reanalysis_avg_temp_k',\n",
       " 'reanalysis_dew_point_temp_k',\n",
       " 'reanalysis_max_air_temp_k',\n",
       " 'reanalysis_min_air_temp_k',\n",
       " 'reanalysis_precip_amt_kg_per_m2',\n",
       " 'reanalysis_relative_humidity_percent',\n",
       " 'reanalysis_sat_precip_amt_mm',\n",
       " 'reanalysis_specific_humidity_g_per_kg',\n",
       " 'reanalysis_tdtr_k',\n",
       " 'station_avg_temp_c',\n",
       " 'station_diur_temp_rng_c',\n",
       " 'station_max_temp_c',\n",
       " 'station_min_temp_c',\n",
       " 'station_precip_mm']"
      ]
     },
     "execution_count": 2,
     "metadata": {},
     "output_type": "execute_result"
    }
   ],
   "source": [
    "X_train_1 = pd.read_csv('data/dengue_features_train.csv')\n",
    "y_train = pd.read_csv('data/dengue_labels_train.csv')['total_cases']\n",
    "attr = list(X_train_1)\n",
    "attr"
   ]
  },
  {
   "cell_type": "markdown",
   "metadata": {},
   "source": [
    "## Cleaning the noisy training data"
   ]
  },
  {
   "cell_type": "code",
   "execution_count": 3,
   "metadata": {},
   "outputs": [
    {
     "data": {
      "text/plain": [
       "(1451, 24)"
      ]
     },
     "execution_count": 3,
     "metadata": {},
     "output_type": "execute_result"
    }
   ],
   "source": [
    "def bools_to_indexes(booleans):\n",
    "    r = []\n",
    "    for idx, x in enumerate(booleans):\n",
    "        if x:\n",
    "            r.append(idx)\n",
    "    return r\n",
    "\n",
    "idx = bools_to_indexes(X_train_1['weekofyear'] == 53)\n",
    "y_train.drop(idx, inplace=True)\n",
    "y_train.reset_index(drop=True, inplace=True)\n",
    "X_train_1.drop(idx, inplace=True)\n",
    "X_train_1.reset_index(drop=True, inplace=True)\n",
    "X_train_1.shape"
   ]
  },
  {
   "cell_type": "markdown",
   "metadata": {},
   "source": [
    "# Trying models"
   ]
  },
  {
   "cell_type": "code",
   "execution_count": null,
   "metadata": {},
   "outputs": [],
   "source": [
    "score_metric='neg_mean_absolute_error'\n",
    "n_jobs=-1\n",
    "iid = False\n",
    "verbose_level = 2\n",
    "k_folds=10 \n",
    "n_iter_search=20"
   ]
  },
  {
   "cell_type": "markdown",
   "metadata": {},
   "source": [
    "## Simple MLP\n",
    "* First we will try with a simple Multilayer Perceptron.\n",
    "* According to the book 'Hands-On Machine Learning with Scikit-Learn and TensorFlow: Concepts, Tools, and Techniques to Build Intelligent Systems', applying the RELU activation function to all the hidden layers is a good idea.\n",
    "* Here we will simply be searching through the different initial learning rates\n",
    "* The ideal number of layers appears to be 7, however the scores are still very high."
   ]
  },
  {
   "cell_type": "markdown",
   "metadata": {},
   "source": [
    "### Preparing the data"
   ]
  },
  {
   "cell_type": "code",
   "execution_count": 9,
   "metadata": {},
   "outputs": [],
   "source": [
    "%autoreload\n",
    "from utils.OurPipeline import create_pipeline\n",
    "\n",
    "pipeline = create_pipeline(attr, n_weeks=1)\n",
    "X_train = pipeline.fit_transform(X_train_1)"
   ]
  },
  {
   "cell_type": "markdown",
   "metadata": {},
   "source": [
    "#### Defining generic values"
   ]
  },
  {
   "cell_type": "code",
   "execution_count": 69,
   "metadata": {},
   "outputs": [],
   "source": [
    "activation = 'relu'\n",
    "train_algorithm = 'adam'\n",
    "learn_rate_mode = 'adaptive'\n",
    "learn_rate_val = 0.001\n",
    "batch_size = 200\n",
    "max_iter = 5000\n",
    "random_n = 42\n",
    "tol_val = 1e-4\n",
    "n_iter_tol = 20\n",
    "verb=False\n",
    "\n",
    "early_stop=True\n",
    "val_faction = 0.1\n",
    "\n",
    "params = {\n",
    "    #'hidden_layer_sizes': [sp_randint(30, 52), sp_randint(16, 30), sp_randint(4, 16)],\n",
    "    'learning_rate_init': sp_uniform(1e-4, 1)\n",
    "    \n",
    "}"
   ]
  },
  {
   "cell_type": "markdown",
   "metadata": {},
   "source": [
    "### 7-layer perceptron"
   ]
  },
  {
   "cell_type": "code",
   "execution_count": 77,
   "metadata": {},
   "outputs": [
    {
     "name": "stdout",
     "output_type": "stream",
     "text": [
      "Fitting 10 folds for each of 20 candidates, totalling 200 fits\n"
     ]
    },
    {
     "name": "stderr",
     "output_type": "stream",
     "text": [
      "[Parallel(n_jobs=-1)]: Using backend LokyBackend with 4 concurrent workers.\n",
      "[Parallel(n_jobs=-1)]: Done  33 tasks      | elapsed:    3.8s\n",
      "[Parallel(n_jobs=-1)]: Done 154 tasks      | elapsed:   30.3s\n",
      "[Parallel(n_jobs=-1)]: Done 200 out of 200 | elapsed:   35.0s finished\n"
     ]
    },
    {
     "data": {
      "text/plain": [
       "(MLPRegressor(activation='relu', alpha=0.0001, batch_size=200, beta_1=0.9,\n",
       "        beta_2=0.999, early_stopping=True, epsilon=1e-08,\n",
       "        hidden_layer_sizes=[35, 25, 20, 15, 10], learning_rate='adaptive',\n",
       "        learning_rate_init=0.04694728278293715, max_iter=5000, momentum=0.9,\n",
       "        n_iter_no_change=20, nesterovs_momentum=True, power_t=0.5,\n",
       "        random_state=42, shuffle=True, solver='adam', tol=0.0001,\n",
       "        validation_fraction=0.1, verbose=False, warm_start=False),\n",
       " -20.78080881244646)"
      ]
     },
     "execution_count": 77,
     "metadata": {},
     "output_type": "execute_result"
    }
   ],
   "source": [
    "neurons_per_layer = [35, 25, 20, 15, 10]\n",
    "\n",
    "mlp = MLPRegressor(hidden_layer_sizes=neurons_per_layer, activation=activation, max_iter=max_iter, solver=train_algorithm, learning_rate=learn_rate_mode, batch_size=batch_size, random_state=random_n, tol=tol_val, verbose=verb, early_stopping=early_stop, validation_fraction=val_faction, n_iter_no_change=n_iter_tol)\n",
    "MLP_Optimizer = RandomizedSearchCV(mlp, param_distributions=params, cv=k_folds, n_iter=n_iter_search, scoring=score_metric, n_jobs=n_jobs, verbose=verbose_level, iid=iid, return_train_score=True)\n",
    "MLP_Optimizer.fit(X_train, y_train)\n",
    "MLP_Optimizer.best_estimator_, MLP_Optimizer.best_score_"
   ]
  },
  {
   "cell_type": "markdown",
   "metadata": {},
   "source": [
    "### 6-layer perceptron"
   ]
  },
  {
   "cell_type": "code",
   "execution_count": 64,
   "metadata": {},
   "outputs": [
    {
     "name": "stdout",
     "output_type": "stream",
     "text": [
      "Fitting 10 folds for each of 20 candidates, totalling 200 fits\n"
     ]
    },
    {
     "name": "stderr",
     "output_type": "stream",
     "text": [
      "[Parallel(n_jobs=-1)]: Using backend LokyBackend with 4 concurrent workers.\n",
      "[Parallel(n_jobs=-1)]: Done  33 tasks      | elapsed:    2.9s\n",
      "[Parallel(n_jobs=-1)]: Done 154 tasks      | elapsed:   24.0s\n",
      "[Parallel(n_jobs=-1)]: Done 200 out of 200 | elapsed:   28.4s finished\n"
     ]
    },
    {
     "data": {
      "text/plain": [
       "(MLPRegressor(activation='relu', alpha=0.0001, batch_size=200, beta_1=0.9,\n",
       "        beta_2=0.999, early_stopping=True, epsilon=1e-08,\n",
       "        hidden_layer_sizes=[35, 25, 15, 10], learning_rate='adaptive',\n",
       "        learning_rate_init=0.0866318376475216, max_iter=5000, momentum=0.9,\n",
       "        n_iter_no_change=20, nesterovs_momentum=True, power_t=0.5,\n",
       "        random_state=42, shuffle=True, solver='adam', tol=0.0001,\n",
       "        validation_fraction=0.1, verbose=False, warm_start=False),\n",
       " -19.513873846292523)"
      ]
     },
     "execution_count": 64,
     "metadata": {},
     "output_type": "execute_result"
    }
   ],
   "source": [
    "neurons_per_layer = [35, 25, 15, 10]\n",
    "\n",
    "mlp = MLPRegressor(hidden_layer_sizes=neurons_per_layer, activation=activation, max_iter=max_iter, solver=train_algorithm, learning_rate=learn_rate_mode, batch_size=batch_size, random_state=random_n, tol=tol_val, verbose=verb, early_stopping=early_stop, validation_fraction=val_faction, n_iter_no_change=n_iter_tol)\n",
    "MLP_Optimizer = RandomizedSearchCV(mlp, param_distributions=params, cv=k_folds, n_iter=n_iter_search, scoring=score_metric, n_jobs=n_jobs, verbose=verbose_level, iid=iid, return_train_score=True)\n",
    "MLP_Optimizer.fit(X_train, y_train)\n",
    "MLP_Optimizer.best_estimator_, MLP_Optimizer.best_score_"
   ]
  },
  {
   "cell_type": "markdown",
   "metadata": {},
   "source": [
    "### 5-layer perceptron"
   ]
  },
  {
   "cell_type": "code",
   "execution_count": 71,
   "metadata": {},
   "outputs": [
    {
     "name": "stdout",
     "output_type": "stream",
     "text": [
      "Fitting 10 folds for each of 20 candidates, totalling 200 fits\n"
     ]
    },
    {
     "name": "stderr",
     "output_type": "stream",
     "text": [
      "[Parallel(n_jobs=-1)]: Using backend LokyBackend with 4 concurrent workers.\n",
      "[Parallel(n_jobs=-1)]: Done  33 tasks      | elapsed:    9.2s\n",
      "[Parallel(n_jobs=-1)]: Done 154 tasks      | elapsed:   33.8s\n",
      "[Parallel(n_jobs=-1)]: Done 200 out of 200 | elapsed:   40.3s finished\n"
     ]
    },
    {
     "data": {
      "text/plain": [
       "(MLPRegressor(activation='relu', alpha=0.0001, batch_size=200, beta_1=0.9,\n",
       "        beta_2=0.999, early_stopping=True, epsilon=1e-08,\n",
       "        hidden_layer_sizes=[35, 20, 10], learning_rate='adaptive',\n",
       "        learning_rate_init=0.134954482930001, max_iter=5000, momentum=0.9,\n",
       "        n_iter_no_change=20, nesterovs_momentum=True, power_t=0.5,\n",
       "        random_state=42, shuffle=True, solver='adam', tol=0.0001,\n",
       "        validation_fraction=0.1, verbose=False, warm_start=False),\n",
       " -21.349379403662667)"
      ]
     },
     "execution_count": 71,
     "metadata": {},
     "output_type": "execute_result"
    }
   ],
   "source": [
    "neurons_per_layer = [35, 20, 10]\n",
    "\n",
    "mlp = MLPRegressor(hidden_layer_sizes=neurons_per_layer, activation=activation, max_iter=max_iter, solver=train_algorithm, learning_rate=learn_rate_mode, batch_size=batch_size, random_state=random_n, tol=tol_val, verbose=verb, early_stopping=early_stop, validation_fraction=val_faction, n_iter_no_change=n_iter_tol)\n",
    "MLP_Optimizer = RandomizedSearchCV(mlp, param_distributions=params, cv=k_folds, n_iter=n_iter_search, scoring=score_metric, n_jobs=n_jobs, verbose=verbose_level, iid=iid, return_train_score=True)\n",
    "MLP_Optimizer.fit(X_train, y_train)\n",
    "MLP_Optimizer.best_estimator_, MLP_Optimizer.best_score_"
   ]
  },
  {
   "cell_type": "markdown",
   "metadata": {},
   "source": [
    "### 4-layer perceptron"
   ]
  },
  {
   "cell_type": "code",
   "execution_count": 73,
   "metadata": {},
   "outputs": [
    {
     "name": "stdout",
     "output_type": "stream",
     "text": [
      "Fitting 10 folds for each of 20 candidates, totalling 200 fits\n"
     ]
    },
    {
     "name": "stderr",
     "output_type": "stream",
     "text": [
      "[Parallel(n_jobs=-1)]: Using backend LokyBackend with 4 concurrent workers.\n",
      "[Parallel(n_jobs=-1)]: Done  33 tasks      | elapsed:    3.0s\n",
      "[Parallel(n_jobs=-1)]: Done 154 tasks      | elapsed:   15.8s\n",
      "[Parallel(n_jobs=-1)]: Done 200 out of 200 | elapsed:   21.0s finished\n"
     ]
    },
    {
     "data": {
      "text/plain": [
       "(MLPRegressor(activation='relu', alpha=0.0001, batch_size=200, beta_1=0.9,\n",
       "        beta_2=0.999, early_stopping=True, epsilon=1e-08,\n",
       "        hidden_layer_sizes=[30, 15], learning_rate='adaptive',\n",
       "        learning_rate_init=0.09571433102280714, max_iter=5000, momentum=0.9,\n",
       "        n_iter_no_change=20, nesterovs_momentum=True, power_t=0.5,\n",
       "        random_state=42, shuffle=True, solver='adam', tol=0.0001,\n",
       "        validation_fraction=0.1, verbose=False, warm_start=False),\n",
       " -21.32883347845756)"
      ]
     },
     "execution_count": 73,
     "metadata": {},
     "output_type": "execute_result"
    }
   ],
   "source": [
    "neurons_per_layer = [30, 15]\n",
    "\n",
    "mlp = MLPRegressor(hidden_layer_sizes=neurons_per_layer, activation=activation, max_iter=max_iter, solver=train_algorithm, learning_rate=learn_rate_mode, batch_size=batch_size, random_state=random_n, tol=tol_val, verbose=verb, early_stopping=early_stop, validation_fraction=val_faction, n_iter_no_change=n_iter_tol)\n",
    "MLP_Optimizer = RandomizedSearchCV(mlp, param_distributions=params, cv=k_folds, n_iter=n_iter_search, scoring=score_metric, n_jobs=n_jobs, verbose=verbose_level, iid=iid, return_train_score=True)\n",
    "MLP_Optimizer.fit(X_train, y_train)\n",
    "MLP_Optimizer.best_estimator_, MLP_Optimizer.best_score_"
   ]
  },
  {
   "cell_type": "code",
   "execution_count": 75,
   "metadata": {},
   "outputs": [
    {
     "data": {
      "text/html": [
       "<div>\n",
       "<style scoped>\n",
       "    .dataframe tbody tr th:only-of-type {\n",
       "        vertical-align: middle;\n",
       "    }\n",
       "\n",
       "    .dataframe tbody tr th {\n",
       "        vertical-align: top;\n",
       "    }\n",
       "\n",
       "    .dataframe thead th {\n",
       "        text-align: right;\n",
       "    }\n",
       "</style>\n",
       "<table border=\"1\" class=\"dataframe\">\n",
       "  <thead>\n",
       "    <tr style=\"text-align: right;\">\n",
       "      <th></th>\n",
       "      <th>params</th>\n",
       "      <th>mean_test_score</th>\n",
       "      <th>std_test_score</th>\n",
       "      <th>mean_train_score</th>\n",
       "    </tr>\n",
       "  </thead>\n",
       "  <tbody>\n",
       "    <tr>\n",
       "      <th>0</th>\n",
       "      <td>{'learning_rate_init': 0.8315891950432374}</td>\n",
       "      <td>-22.302382</td>\n",
       "      <td>9.035754</td>\n",
       "      <td>-21.971457</td>\n",
       "    </tr>\n",
       "    <tr>\n",
       "      <th>1</th>\n",
       "      <td>{'learning_rate_init': 0.037523578901123025}</td>\n",
       "      <td>-20.126625</td>\n",
       "      <td>13.362530</td>\n",
       "      <td>-14.724124</td>\n",
       "    </tr>\n",
       "    <tr>\n",
       "      <th>2</th>\n",
       "      <td>{'learning_rate_init': 0.6643309158762516}</td>\n",
       "      <td>-26.809253</td>\n",
       "      <td>16.331691</td>\n",
       "      <td>-27.055716</td>\n",
       "    </tr>\n",
       "    <tr>\n",
       "      <th>3</th>\n",
       "      <td>{'learning_rate_init': 0.08089179566977546}</td>\n",
       "      <td>-20.658345</td>\n",
       "      <td>13.547042</td>\n",
       "      <td>-15.583598</td>\n",
       "    </tr>\n",
       "    <tr>\n",
       "      <th>4</th>\n",
       "      <td>{'learning_rate_init': 0.20921007320386353}</td>\n",
       "      <td>-22.518933</td>\n",
       "      <td>8.826091</td>\n",
       "      <td>-22.245434</td>\n",
       "    </tr>\n",
       "    <tr>\n",
       "      <th>5</th>\n",
       "      <td>{'learning_rate_init': 0.756712543872126}</td>\n",
       "      <td>-21.661455</td>\n",
       "      <td>9.592722</td>\n",
       "      <td>-23.415124</td>\n",
       "    </tr>\n",
       "    <tr>\n",
       "      <th>6</th>\n",
       "      <td>{'learning_rate_init': 0.03326783490960829}</td>\n",
       "      <td>-19.907474</td>\n",
       "      <td>13.097476</td>\n",
       "      <td>-14.390898</td>\n",
       "    </tr>\n",
       "    <tr>\n",
       "      <th>7</th>\n",
       "      <td>{'learning_rate_init': 0.37005066532944875}</td>\n",
       "      <td>-22.516135</td>\n",
       "      <td>8.821664</td>\n",
       "      <td>-22.244133</td>\n",
       "    </tr>\n",
       "    <tr>\n",
       "      <th>8</th>\n",
       "      <td>{'learning_rate_init': 0.4228326653937886}</td>\n",
       "      <td>-22.521593</td>\n",
       "      <td>8.820328</td>\n",
       "      <td>-22.242738</td>\n",
       "    </tr>\n",
       "    <tr>\n",
       "      <th>9</th>\n",
       "      <td>{'learning_rate_init': 0.8657256207998367}</td>\n",
       "      <td>-24.127015</td>\n",
       "      <td>11.297909</td>\n",
       "      <td>-22.320675</td>\n",
       "    </tr>\n",
       "    <tr>\n",
       "      <th>10</th>\n",
       "      <td>{'learning_rate_init': 0.5867147267315596}</td>\n",
       "      <td>-25.442071</td>\n",
       "      <td>14.318752</td>\n",
       "      <td>-22.852391</td>\n",
       "    </tr>\n",
       "    <tr>\n",
       "      <th>11</th>\n",
       "      <td>{'learning_rate_init': 0.04800734555302545}</td>\n",
       "      <td>-21.361202</td>\n",
       "      <td>13.804236</td>\n",
       "      <td>-15.763969</td>\n",
       "    </tr>\n",
       "    <tr>\n",
       "      <th>12</th>\n",
       "      <td>{'learning_rate_init': 0.9253461823690092}</td>\n",
       "      <td>-27.860132</td>\n",
       "      <td>14.922256</td>\n",
       "      <td>-24.391663</td>\n",
       "    </tr>\n",
       "    <tr>\n",
       "      <th>13</th>\n",
       "      <td>{'learning_rate_init': 0.5410478443964152}</td>\n",
       "      <td>-22.496819</td>\n",
       "      <td>8.858572</td>\n",
       "      <td>-22.193433</td>\n",
       "    </tr>\n",
       "    <tr>\n",
       "      <th>14</th>\n",
       "      <td>{'learning_rate_init': 0.31680387354661266}</td>\n",
       "      <td>-22.519103</td>\n",
       "      <td>8.821614</td>\n",
       "      <td>-22.245652</td>\n",
       "    </tr>\n",
       "    <tr>\n",
       "      <th>15</th>\n",
       "      <td>{'learning_rate_init': 0.541534816492473}</td>\n",
       "      <td>-22.485728</td>\n",
       "      <td>8.864708</td>\n",
       "      <td>-22.187056</td>\n",
       "    </tr>\n",
       "    <tr>\n",
       "      <th>16</th>\n",
       "      <td>{'learning_rate_init': 0.6373289873490183}</td>\n",
       "      <td>-26.355467</td>\n",
       "      <td>16.635259</td>\n",
       "      <td>-26.367736</td>\n",
       "    </tr>\n",
       "    <tr>\n",
       "      <th>17</th>\n",
       "      <td>{'learning_rate_init': 0.22556061340723588}</td>\n",
       "      <td>-22.504433</td>\n",
       "      <td>8.825497</td>\n",
       "      <td>-22.241594</td>\n",
       "    </tr>\n",
       "    <tr>\n",
       "      <th>18</th>\n",
       "      <td>{'learning_rate_init': 0.15198417746424497}</td>\n",
       "      <td>-22.511289</td>\n",
       "      <td>8.827679</td>\n",
       "      <td>-22.241061</td>\n",
       "    </tr>\n",
       "    <tr>\n",
       "      <th>19</th>\n",
       "      <td>{'learning_rate_init': 0.9870607236622081}</td>\n",
       "      <td>-26.898801</td>\n",
       "      <td>16.634866</td>\n",
       "      <td>-26.911070</td>\n",
       "    </tr>\n",
       "  </tbody>\n",
       "</table>\n",
       "</div>"
      ],
      "text/plain": [
       "                                          params  mean_test_score  \\\n",
       "0     {'learning_rate_init': 0.8315891950432374}       -22.302382   \n",
       "1   {'learning_rate_init': 0.037523578901123025}       -20.126625   \n",
       "2     {'learning_rate_init': 0.6643309158762516}       -26.809253   \n",
       "3    {'learning_rate_init': 0.08089179566977546}       -20.658345   \n",
       "4    {'learning_rate_init': 0.20921007320386353}       -22.518933   \n",
       "5      {'learning_rate_init': 0.756712543872126}       -21.661455   \n",
       "6    {'learning_rate_init': 0.03326783490960829}       -19.907474   \n",
       "7    {'learning_rate_init': 0.37005066532944875}       -22.516135   \n",
       "8     {'learning_rate_init': 0.4228326653937886}       -22.521593   \n",
       "9     {'learning_rate_init': 0.8657256207998367}       -24.127015   \n",
       "10    {'learning_rate_init': 0.5867147267315596}       -25.442071   \n",
       "11   {'learning_rate_init': 0.04800734555302545}       -21.361202   \n",
       "12    {'learning_rate_init': 0.9253461823690092}       -27.860132   \n",
       "13    {'learning_rate_init': 0.5410478443964152}       -22.496819   \n",
       "14   {'learning_rate_init': 0.31680387354661266}       -22.519103   \n",
       "15     {'learning_rate_init': 0.541534816492473}       -22.485728   \n",
       "16    {'learning_rate_init': 0.6373289873490183}       -26.355467   \n",
       "17   {'learning_rate_init': 0.22556061340723588}       -22.504433   \n",
       "18   {'learning_rate_init': 0.15198417746424497}       -22.511289   \n",
       "19    {'learning_rate_init': 0.9870607236622081}       -26.898801   \n",
       "\n",
       "    std_test_score  mean_train_score  \n",
       "0         9.035754        -21.971457  \n",
       "1        13.362530        -14.724124  \n",
       "2        16.331691        -27.055716  \n",
       "3        13.547042        -15.583598  \n",
       "4         8.826091        -22.245434  \n",
       "5         9.592722        -23.415124  \n",
       "6        13.097476        -14.390898  \n",
       "7         8.821664        -22.244133  \n",
       "8         8.820328        -22.242738  \n",
       "9        11.297909        -22.320675  \n",
       "10       14.318752        -22.852391  \n",
       "11       13.804236        -15.763969  \n",
       "12       14.922256        -24.391663  \n",
       "13        8.858572        -22.193433  \n",
       "14        8.821614        -22.245652  \n",
       "15        8.864708        -22.187056  \n",
       "16       16.635259        -26.367736  \n",
       "17        8.825497        -22.241594  \n",
       "18        8.827679        -22.241061  \n",
       "19       16.634866        -26.911070  "
      ]
     },
     "execution_count": 75,
     "metadata": {},
     "output_type": "execute_result"
    }
   ],
   "source": [
    "pd.DataFrame(MLP_Optimizer.cv_results_)[['params','mean_test_score','std_test_score', 'mean_train_score']]"
   ]
  },
  {
   "cell_type": "code",
   "execution_count": null,
   "metadata": {},
   "outputs": [],
   "source": []
  }
 ],
 "metadata": {
  "kernelspec": {
   "display_name": "Python 3",
   "language": "python",
   "name": "python3"
  },
  "language_info": {
   "codemirror_mode": {
    "name": "ipython",
    "version": 3
   },
   "file_extension": ".py",
   "mimetype": "text/x-python",
   "name": "python",
   "nbconvert_exporter": "python",
   "pygments_lexer": "ipython3",
   "version": "3.7.2"
  }
 },
 "nbformat": 4,
 "nbformat_minor": 2
}
