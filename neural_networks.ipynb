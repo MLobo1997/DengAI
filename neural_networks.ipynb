{
 "cells": [
  {
   "cell_type": "code",
   "execution_count": 1,
   "metadata": {},
   "outputs": [],
   "source": [
    "%load_ext autoreload\n",
    "import pandas as pd\n",
    "import numpy as np\n",
    "from sklearn.model_selection import RandomizedSearchCV\n",
    "from sklearn.neural_network import MLPRegressor\n",
    "from scipy.stats import randint as sp_randint\n",
    "from scipy.stats import uniform as sp_uniform\n",
    "import tensorflow as tf\n",
    "from tensorflow.keras import models\n",
    "from tensorflow.keras import layers\n",
    "from tensorflow.keras import optimizers\n",
    "from tensorflow.keras.callbacks import EarlyStopping\n",
    "from tensorflow.keras.models import load_model"
   ]
  },
  {
   "cell_type": "code",
   "execution_count": 2,
   "metadata": {},
   "outputs": [
    {
     "name": "stdout",
     "output_type": "stream",
     "text": [
      "2.0.0-alpha0\n"
     ]
    }
   ],
   "source": [
    "print(tf.__version__)"
   ]
  },
  {
   "cell_type": "code",
   "execution_count": 3,
   "metadata": {},
   "outputs": [
    {
     "data": {
      "text/plain": [
       "['city',\n",
       " 'year',\n",
       " 'weekofyear',\n",
       " 'week_start_date',\n",
       " 'ndvi_ne',\n",
       " 'ndvi_nw',\n",
       " 'ndvi_se',\n",
       " 'ndvi_sw',\n",
       " 'precipitation_amt_mm',\n",
       " 'reanalysis_air_temp_k',\n",
       " 'reanalysis_avg_temp_k',\n",
       " 'reanalysis_dew_point_temp_k',\n",
       " 'reanalysis_max_air_temp_k',\n",
       " 'reanalysis_min_air_temp_k',\n",
       " 'reanalysis_precip_amt_kg_per_m2',\n",
       " 'reanalysis_relative_humidity_percent',\n",
       " 'reanalysis_sat_precip_amt_mm',\n",
       " 'reanalysis_specific_humidity_g_per_kg',\n",
       " 'reanalysis_tdtr_k',\n",
       " 'station_avg_temp_c',\n",
       " 'station_diur_temp_rng_c',\n",
       " 'station_max_temp_c',\n",
       " 'station_min_temp_c',\n",
       " 'station_precip_mm']"
      ]
     },
     "execution_count": 3,
     "metadata": {},
     "output_type": "execute_result"
    }
   ],
   "source": [
    "X_train_1 = pd.read_csv('data/dengue_features_train.csv')\n",
    "y_train = pd.read_csv('data/dengue_labels_train.csv')['total_cases']\n",
    "attr = list(X_train_1)\n",
    "attr"
   ]
  },
  {
   "cell_type": "markdown",
   "metadata": {},
   "source": [
    "## Cleaning the noisy training data"
   ]
  },
  {
   "cell_type": "code",
   "execution_count": 4,
   "metadata": {},
   "outputs": [
    {
     "data": {
      "text/plain": [
       "(1451, 24)"
      ]
     },
     "execution_count": 4,
     "metadata": {},
     "output_type": "execute_result"
    }
   ],
   "source": [
    "def bools_to_indexes(booleans):\n",
    "    r = []\n",
    "    for idx, x in enumerate(booleans):\n",
    "        if x:\n",
    "            r.append(idx)\n",
    "    return r\n",
    "\n",
    "idx = bools_to_indexes(X_train_1['weekofyear'] == 53)\n",
    "y_train.drop(idx, inplace=True)\n",
    "y_train.reset_index(drop=True, inplace=True)\n",
    "X_train_1.drop(idx, inplace=True)\n",
    "X_train_1.reset_index(drop=True, inplace=True)\n",
    "X_train_1.shape"
   ]
  },
  {
   "cell_type": "markdown",
   "metadata": {},
   "source": [
    "## Preparing the data"
   ]
  },
  {
   "cell_type": "code",
   "execution_count": 5,
   "metadata": {},
   "outputs": [
    {
     "data": {
      "text/plain": [
       "(1451, 20)"
      ]
     },
     "execution_count": 5,
     "metadata": {},
     "output_type": "execute_result"
    }
   ],
   "source": [
    "%autoreload\n",
    "from utils.OurPipeline import create_pipeline\n",
    "\n",
    "pipeline = create_pipeline(attr)\n",
    "X_train = pipeline.fit_transform(X_train_1)\n",
    "N, M = X_train.shape\n",
    "N, M "
   ]
  },
  {
   "cell_type": "markdown",
   "metadata": {},
   "source": [
    "# Trying models"
   ]
  },
  {
   "cell_type": "code",
   "execution_count": 6,
   "metadata": {},
   "outputs": [],
   "source": [
    "score_metric='neg_mean_absolute_error'\n",
    "n_jobs=-1\n",
    "iid = False\n",
    "verbose_level = 2\n",
    "k_folds=10 \n",
    "n_iter_search=20"
   ]
  },
  {
   "cell_type": "markdown",
   "metadata": {},
   "source": [
    "## Simple MLP with Scikit-Learn\n",
    "* First we will try with a simple Multilayer Perceptron.\n",
    "* According to the book 'Hands-On Machine Learning with Scikit-Learn and TensorFlow: Concepts, Tools, and Techniques to Build Intelligent Systems', applying the RELU activation function to all the hidden layers is a good idea.\n",
    "* Here we will simply be searching through the different initial learning rates\n",
    "* The ideal number of layers appears to be 7, however the scores are still very high."
   ]
  },
  {
   "cell_type": "markdown",
   "metadata": {},
   "source": [
    "#### Defining generic values"
   ]
  },
  {
   "cell_type": "code",
   "execution_count": 7,
   "metadata": {},
   "outputs": [],
   "source": [
    "activation = 'relu'\n",
    "train_algorithm = 'adam'\n",
    "learn_rate_mode = 'adaptive'\n",
    "learn_rate_val = 0.001\n",
    "batch_size = 200\n",
    "max_iter = 5000\n",
    "random_n = 42\n",
    "tol_val = 1e-4\n",
    "n_iter_tol = 20\n",
    "verb=False\n",
    "\n",
    "early_stop=True\n",
    "val_faction = 0.1\n",
    "\n",
    "params = {\n",
    "    #'hidden_layer_sizes': [sp_randint(30, 52), sp_randint(16, 30), sp_randint(4, 16)],\n",
    "    'learning_rate_init': sp_uniform(1e-4, 1)\n",
    "    \n",
    "}"
   ]
  },
  {
   "cell_type": "markdown",
   "metadata": {},
   "source": [
    "### 7-layer perceptron"
   ]
  },
  {
   "cell_type": "code",
   "execution_count": 8,
   "metadata": {},
   "outputs": [
    {
     "name": "stdout",
     "output_type": "stream",
     "text": [
      "Fitting 10 folds for each of 20 candidates, totalling 200 fits\n"
     ]
    },
    {
     "name": "stderr",
     "output_type": "stream",
     "text": [
      "[Parallel(n_jobs=-1)]: Using backend LokyBackend with 4 concurrent workers.\n",
      "[Parallel(n_jobs=-1)]: Done  33 tasks      | elapsed:    5.2s\n",
      "[Parallel(n_jobs=-1)]: Done 154 tasks      | elapsed:   18.6s\n",
      "[Parallel(n_jobs=-1)]: Done 200 out of 200 | elapsed:   25.7s finished\n"
     ]
    },
    {
     "data": {
      "text/plain": [
       "(MLPRegressor(activation='relu', alpha=0.0001, batch_size=200, beta_1=0.9,\n",
       "              beta_2=0.999, early_stopping=True, epsilon=1e-08,\n",
       "              hidden_layer_sizes=[20, 15, 10, 7, 5], learning_rate='adaptive',\n",
       "              learning_rate_init=0.08729830669792406, max_iter=5000,\n",
       "              momentum=0.9, n_iter_no_change=20, nesterovs_momentum=True,\n",
       "              power_t=0.5, random_state=42, shuffle=True, solver='adam',\n",
       "              tol=0.0001, validation_fraction=0.1, verbose=False,\n",
       "              warm_start=False), -22.15315382994808)"
      ]
     },
     "execution_count": 8,
     "metadata": {},
     "output_type": "execute_result"
    }
   ],
   "source": [
    "neurons_per_layer = [20, 15, 10, 7, 5]\n",
    "\n",
    "mlp = MLPRegressor(hidden_layer_sizes=neurons_per_layer, activation=activation, max_iter=max_iter, solver=train_algorithm, learning_rate=learn_rate_mode, batch_size=batch_size, random_state=random_n, tol=tol_val, verbose=verb, early_stopping=early_stop, validation_fraction=val_faction, n_iter_no_change=n_iter_tol)\n",
    "MLP_Optimizer = RandomizedSearchCV(mlp, param_distributions=params, cv=k_folds, n_iter=n_iter_search, scoring=score_metric, n_jobs=n_jobs, verbose=verbose_level, iid=iid, return_train_score=True)\n",
    "MLP_Optimizer.fit(X_train, y_train)\n",
    "MLP_Optimizer.best_estimator_, MLP_Optimizer.best_score_"
   ]
  },
  {
   "cell_type": "markdown",
   "metadata": {},
   "source": [
    "### 6-layer perceptron"
   ]
  },
  {
   "cell_type": "code",
   "execution_count": 9,
   "metadata": {},
   "outputs": [
    {
     "name": "stdout",
     "output_type": "stream",
     "text": [
      "Fitting 10 folds for each of 20 candidates, totalling 200 fits\n"
     ]
    },
    {
     "name": "stderr",
     "output_type": "stream",
     "text": [
      "[Parallel(n_jobs=-1)]: Using backend LokyBackend with 4 concurrent workers.\n",
      "[Parallel(n_jobs=-1)]: Done  33 tasks      | elapsed:    3.9s\n",
      "[Parallel(n_jobs=-1)]: Done 154 tasks      | elapsed:   18.5s\n",
      "[Parallel(n_jobs=-1)]: Done 200 out of 200 | elapsed:   23.8s finished\n"
     ]
    },
    {
     "data": {
      "text/plain": [
       "(MLPRegressor(activation='relu', alpha=0.0001, batch_size=200, beta_1=0.9,\n",
       "              beta_2=0.999, early_stopping=True, epsilon=1e-08,\n",
       "              hidden_layer_sizes=[18, 15, 11, 6], learning_rate='adaptive',\n",
       "              learning_rate_init=0.1994901720631599, max_iter=5000, momentum=0.9,\n",
       "              n_iter_no_change=20, nesterovs_momentum=True, power_t=0.5,\n",
       "              random_state=42, shuffle=True, solver='adam', tol=0.0001,\n",
       "              validation_fraction=0.1, verbose=False, warm_start=False),\n",
       " -20.896769284991095)"
      ]
     },
     "execution_count": 9,
     "metadata": {},
     "output_type": "execute_result"
    }
   ],
   "source": [
    "neurons_per_layer = [18, 15, 11, 6]\n",
    "\n",
    "mlp = MLPRegressor(hidden_layer_sizes=neurons_per_layer, activation=activation, max_iter=max_iter, solver=train_algorithm, learning_rate=learn_rate_mode, batch_size=batch_size, random_state=random_n, tol=tol_val, verbose=verb, early_stopping=early_stop, validation_fraction=val_faction, n_iter_no_change=n_iter_tol)\n",
    "MLP_Optimizer = RandomizedSearchCV(mlp, param_distributions=params, cv=k_folds, n_iter=n_iter_search, scoring=score_metric, n_jobs=n_jobs, verbose=verbose_level, iid=iid, return_train_score=True)\n",
    "MLP_Optimizer.fit(X_train, y_train)\n",
    "MLP_Optimizer.best_estimator_, MLP_Optimizer.best_score_"
   ]
  },
  {
   "cell_type": "markdown",
   "metadata": {},
   "source": [
    "### 5-layer perceptron"
   ]
  },
  {
   "cell_type": "code",
   "execution_count": 13,
   "metadata": {},
   "outputs": [
    {
     "name": "stdout",
     "output_type": "stream",
     "text": [
      "Fitting 10 folds for each of 20 candidates, totalling 200 fits\n"
     ]
    },
    {
     "name": "stderr",
     "output_type": "stream",
     "text": [
      "[Parallel(n_jobs=-1)]: Using backend LokyBackend with 4 concurrent workers.\n",
      "[Parallel(n_jobs=-1)]: Done  33 tasks      | elapsed:    6.4s\n",
      "[Parallel(n_jobs=-1)]: Done 154 tasks      | elapsed:   23.0s\n",
      "[Parallel(n_jobs=-1)]: Done 200 out of 200 | elapsed:   30.9s finished\n"
     ]
    },
    {
     "data": {
      "text/plain": [
       "(MLPRegressor(activation='relu', alpha=0.0001, batch_size=200, beta_1=0.9,\n",
       "              beta_2=0.999, early_stopping=True, epsilon=1e-08,\n",
       "              hidden_layer_sizes=[15, 10, 5], learning_rate='adaptive',\n",
       "              learning_rate_init=0.020546480378377707, max_iter=5000,\n",
       "              momentum=0.9, n_iter_no_change=20, nesterovs_momentum=True,\n",
       "              power_t=0.5, random_state=42, shuffle=True, solver='adam',\n",
       "              tol=0.0001, validation_fraction=0.1, verbose=False,\n",
       "              warm_start=False), -21.200566970027445)"
      ]
     },
     "execution_count": 13,
     "metadata": {},
     "output_type": "execute_result"
    }
   ],
   "source": [
    "neurons_per_layer = [15, 10, 5]\n",
    "\n",
    "mlp = MLPRegressor(hidden_layer_sizes=neurons_per_layer, activation=activation, max_iter=max_iter, solver=train_algorithm, learning_rate=learn_rate_mode, batch_size=batch_size, random_state=random_n, tol=tol_val, verbose=verb, early_stopping=early_stop, validation_fraction=val_faction, n_iter_no_change=n_iter_tol)\n",
    "MLP_Optimizer = RandomizedSearchCV(mlp, param_distributions=params, cv=k_folds, n_iter=n_iter_search, scoring=score_metric, n_jobs=n_jobs, verbose=verbose_level, iid=iid, return_train_score=True)\n",
    "MLP_Optimizer.fit(X_train, y_train)\n",
    "MLP_Optimizer.best_estimator_, MLP_Optimizer.best_score_"
   ]
  },
  {
   "cell_type": "markdown",
   "metadata": {},
   "source": [
    "### 4-layer perceptron"
   ]
  },
  {
   "cell_type": "code",
   "execution_count": 14,
   "metadata": {},
   "outputs": [
    {
     "name": "stdout",
     "output_type": "stream",
     "text": [
      "Fitting 10 folds for each of 20 candidates, totalling 200 fits\n"
     ]
    },
    {
     "name": "stderr",
     "output_type": "stream",
     "text": [
      "[Parallel(n_jobs=-1)]: Using backend LokyBackend with 4 concurrent workers.\n",
      "[Parallel(n_jobs=-1)]: Done  58 tasks      | elapsed:    4.2s\n",
      "[Parallel(n_jobs=-1)]: Done 200 out of 200 | elapsed:   14.3s finished\n"
     ]
    },
    {
     "data": {
      "text/plain": [
       "(MLPRegressor(activation='relu', alpha=0.0001, batch_size=200, beta_1=0.9,\n",
       "              beta_2=0.999, early_stopping=True, epsilon=1e-08,\n",
       "              hidden_layer_sizes=[15, 5], learning_rate='adaptive',\n",
       "              learning_rate_init=0.37241539488806297, max_iter=5000,\n",
       "              momentum=0.9, n_iter_no_change=20, nesterovs_momentum=True,\n",
       "              power_t=0.5, random_state=42, shuffle=True, solver='adam',\n",
       "              tol=0.0001, validation_fraction=0.1, verbose=False,\n",
       "              warm_start=False), -20.65867561536846)"
      ]
     },
     "execution_count": 14,
     "metadata": {},
     "output_type": "execute_result"
    }
   ],
   "source": [
    "neurons_per_layer = [15, 5]\n",
    "\n",
    "mlp = MLPRegressor(hidden_layer_sizes=neurons_per_layer, activation=activation, max_iter=max_iter, solver=train_algorithm, learning_rate=learn_rate_mode, batch_size=batch_size, random_state=random_n, tol=tol_val, verbose=verb, early_stopping=early_stop, validation_fraction=val_faction, n_iter_no_change=n_iter_tol)\n",
    "MLP_Optimizer = RandomizedSearchCV(mlp, param_distributions=params, cv=k_folds, n_iter=n_iter_search, scoring=score_metric, n_jobs=n_jobs, verbose=verbose_level, iid=iid, return_train_score=True)\n",
    "MLP_Optimizer.fit(X_train, y_train)\n",
    "MLP_Optimizer.best_estimator_, MLP_Optimizer.best_score_"
   ]
  },
  {
   "cell_type": "markdown",
   "metadata": {},
   "source": [
    "## Simple MLP with Keras on top of Tensorflow\n",
    "* We will just try the amount of layers (6) which gave the ideal results with the Sci-kit API. \n",
    "* The first layer cannot use the activation function RELU given that the data was standardized.\n",
    "* Sigmoid is okay given that its codomain is between 0 and 1 and that the RELU is linear above 0.\n",
    "* The results here were not so great. There is definitly something wrong with how we are using the data. The more the model fits, the more our validation score decreases."
   ]
  },
  {
   "cell_type": "code",
   "execution_count": 10,
   "metadata": {},
   "outputs": [],
   "source": [
    "learn_rate = 0.0001\n",
    "optim = optimizers.Adam(lr=learn_rate)\n",
    "loss_fun = 'mae'"
   ]
  },
  {
   "cell_type": "code",
   "execution_count": 11,
   "metadata": {},
   "outputs": [
    {
     "name": "stdout",
     "output_type": "stream",
     "text": [
      "Model: \"sequential\"\n",
      "_________________________________________________________________\n",
      "Layer (type)                 Output Shape              Param #   \n",
      "=================================================================\n",
      "dense (Dense)                (None, 20)                420       \n",
      "_________________________________________________________________\n",
      "dense_1 (Dense)              (None, 35)                735       \n",
      "_________________________________________________________________\n",
      "dense_2 (Dense)              (None, 25)                900       \n",
      "_________________________________________________________________\n",
      "dense_3 (Dense)              (None, 15)                390       \n",
      "_________________________________________________________________\n",
      "dense_4 (Dense)              (None, 10)                160       \n",
      "_________________________________________________________________\n",
      "dense_5 (Dense)              (None, 1)                 11        \n",
      "=================================================================\n",
      "Total params: 2,616\n",
      "Trainable params: 2,616\n",
      "Non-trainable params: 0\n",
      "_________________________________________________________________\n"
     ]
    }
   ],
   "source": [
    "%autoreload\n",
    "from utils.MLP import create_mlp\n",
    "neurons_per_layer = [35, 25, 15, 10]\n",
    "\n",
    "network = create_mlp(neurons_per_layer=neurons_per_layer, nr_of_features=M, optim_func=optim, loss_func=loss_fun)\n",
    "network.summary()\n",
    "\n",
    "from utils.print_history_loss import print_history_loss\n",
    "\n",
    "history_fit = network.fit(X_train, y_train, epochs=500, batch_size=150, verbose=0, validation_split=0.5, shuffle=True)"
   ]
  },
  {
   "cell_type": "code",
   "execution_count": 12,
   "metadata": {},
   "outputs": [
    {
     "data": {
      "image/png": "[encoded data removed]",
      "text/plain": [
       "<Figure size 432x288 with 1 Axes>"
      ]
     },
     "metadata": {
      "needs_background": "light"
     },
     "output_type": "display_data"
    }
   ],
   "source": [
    "print_history_loss(history_fit)"
   ]
  },
  {
   "cell_type": "markdown",
   "metadata": {},
   "source": [
    "## Stratified sampling\n",
    "* The learning curves obtained above are very odd. The validation starts with a very small loss that starts increasing as the model overfits the training data. This is probably because the validation data is very \"easy\" to predict or all the same. We are going to apply stratified sampling  in order to try and fix this. Y is a continuous variable, therefore stratification is tricky.\n",
    "* Stratified sampling result was absolutely what we needed as we can see in the learning curves below. It made the train and test data more similar."
   ]
  },
  {
   "cell_type": "code",
   "execution_count": 9,
   "metadata": {},
   "outputs": [
    {
     "data": {
      "text/plain": [
       "((1160, 20), (1160,), (291, 20), (291,))"
      ]
     },
     "execution_count": 9,
     "metadata": {},
     "output_type": "execute_result"
    }
   ],
   "source": [
    "from utils.StratifiedRegressionSampling import stratified_regression_split\n",
    "X_train_strat, y_train_strat, X_test_strat, y_test_strat = stratified_regression_split(X_train, y_train, 100, 0.8)\n",
    "X_train_strat.shape, y_train_strat.shape, X_test_strat.shape, y_test_strat.shape"
   ]
  },
  {
   "cell_type": "markdown",
   "metadata": {},
   "source": [
    "### Training the model with EarlyStopping callback\n",
    "* Making the model stop training when there doesn't appear to be any improvement"
   ]
  },
  {
   "cell_type": "code",
   "execution_count": 27,
   "metadata": {},
   "outputs": [
    {
     "name": "stdout",
     "output_type": "stream",
     "text": [
      "Model: \"sequential_8\"\n",
      "_________________________________________________________________\n",
      "Layer (type)                 Output Shape              Param #   \n",
      "=================================================================\n",
      "dense_48 (Dense)             (None, 20)                420       \n",
      "_________________________________________________________________\n",
      "dense_49 (Dense)             (None, 35)                735       \n",
      "_________________________________________________________________\n",
      "dense_50 (Dense)             (None, 25)                900       \n",
      "_________________________________________________________________\n",
      "dense_51 (Dense)             (None, 15)                390       \n",
      "_________________________________________________________________\n",
      "dense_52 (Dense)             (None, 10)                160       \n",
      "_________________________________________________________________\n",
      "dense_53 (Dense)             (None, 1)                 11        \n",
      "=================================================================\n",
      "Total params: 2,616\n",
      "Trainable params: 2,616\n",
      "Non-trainable params: 0\n",
      "_________________________________________________________________\n",
      "Restoring model weights from the end of the best epoch.\n",
      "Epoch 01491: early stopping\n"
     ]
    },
    {
     "data": {
      "image/png": "[encoded data removed]",
      "text/plain": [
       "<Figure size 432x288 with 1 Axes>"
      ]
     },
     "metadata": {
      "needs_background": "light"
     },
     "output_type": "display_data"
    },
    {
     "data": {
      "text/plain": [
       "17.974709659541418"
      ]
     },
     "execution_count": 27,
     "metadata": {},
     "output_type": "execute_result"
    }
   ],
   "source": [
    "%autoreload\n",
    "from utils.MLP import create_mlp\n",
    "from utils.print_history_loss import print_history_loss\n",
    "\n",
    "neurons_per_layer = [35, 25, 15, 10]\n",
    "\n",
    "network = create_mlp(neurons_per_layer=neurons_per_layer, nr_of_features=M, optim_func=optim, loss_func=loss_fun)\n",
    "network.summary()\n",
    "\n",
    "\n",
    "early_stop = EarlyStopping(monitor='val_loss', min_delta=5e-2, patience=500, verbose=2, mode='min', restore_best_weights=True)\n",
    "\n",
    "history_fit = network.fit(X_train_strat, y_train_strat, validation_data=(X_test_strat, y_test_strat), callbacks=[early_stop], epochs=10000, batch_size=150, verbose=0, shuffle=True)\n",
    "print_history_loss(history_fit)\n",
    "min(history_fit.history['val_loss'])"
   ]
  },
  {
   "cell_type": "markdown",
   "metadata": {},
   "source": [
    "# Recurrent neural networks\n",
    "* Here we will take advantage of the fact that we are talking about sequential data. For that reason we must **split cities** and we **can't drop rows**.\n",
    "\n",
    "## Loading the data again\n",
    "* since we dropped some rows."
   ]
  },
  {
   "cell_type": "code",
   "execution_count": 4,
   "metadata": {},
   "outputs": [
    {
     "data": {
      "text/plain": [
       "['city',\n",
       " 'year',\n",
       " 'weekofyear',\n",
       " 'week_start_date',\n",
       " 'ndvi_ne',\n",
       " 'ndvi_nw',\n",
       " 'ndvi_se',\n",
       " 'ndvi_sw',\n",
       " 'precipitation_amt_mm',\n",
       " 'reanalysis_air_temp_k',\n",
       " 'reanalysis_avg_temp_k',\n",
       " 'reanalysis_dew_point_temp_k',\n",
       " 'reanalysis_max_air_temp_k',\n",
       " 'reanalysis_min_air_temp_k',\n",
       " 'reanalysis_precip_amt_kg_per_m2',\n",
       " 'reanalysis_relative_humidity_percent',\n",
       " 'reanalysis_sat_precip_amt_mm',\n",
       " 'reanalysis_specific_humidity_g_per_kg',\n",
       " 'reanalysis_tdtr_k',\n",
       " 'station_avg_temp_c',\n",
       " 'station_diur_temp_rng_c',\n",
       " 'station_max_temp_c',\n",
       " 'station_min_temp_c',\n",
       " 'station_precip_mm']"
      ]
     },
     "execution_count": 4,
     "metadata": {},
     "output_type": "execute_result"
    }
   ],
   "source": [
    "X_train_1 = pd.read_csv('data/dengue_features_train.csv')\n",
    "y_train = pd.read_csv('data/dengue_labels_train.csv')['total_cases']\n",
    "attr = list(X_train_1)\n",
    "attr"
   ]
  },
  {
   "cell_type": "markdown",
   "metadata": {},
   "source": [
    "### Splitting the cities"
   ]
  },
  {
   "cell_type": "code",
   "execution_count": 9,
   "metadata": {},
   "outputs": [
    {
     "data": {
      "text/plain": [
       "((936, 24), (936,), (520, 24), (520,))"
      ]
     },
     "execution_count": 9,
     "metadata": {},
     "output_type": "execute_result"
    }
   ],
   "source": [
    "sj = X_train_1['city'] == 'sj'\n",
    "X_sj_1, y_sj = X_train_1[sj], y_train[sj]\n",
    "X_iq_1, y_iq = X_train_1[-sj], y_train[-sj]\n",
    "\n",
    "M = X_sj_1.shape[1]\n",
    "X_sj_1.shape, y_sj.shape, X_iq_1.shape, y_iq.shape"
   ]
  },
  {
   "cell_type": "markdown",
   "metadata": {},
   "source": [
    "## Feature selection\n",
    "* Our plan ahead isto use recurrent neural networks, but in order to have less intensive training we want to remove useless features first\n",
    "* The `mlp_optim` we are using is the best from the sklearn implementations above\n",
    "* We can't apply Variance threshold because our attributes have very differente range of values\n",
    "* In the `f_regression` test, attributes with a p-value above 0.05 is too high and could be removed. As we can see at least 4 should clearly be removed."
   ]
  },
  {
   "cell_type": "markdown",
   "metadata": {},
   "source": [
    "### Pvalues"
   ]
  },
  {
   "cell_type": "code",
   "execution_count": 10,
   "metadata": {},
   "outputs": [
    {
     "name": "stderr",
     "output_type": "stream",
     "text": [
      "/Users/miguellobo/Development/UMinho-AA2/.env/lib/python3.7/site-packages/numpy/lib/nanfunctions.py:1076: RuntimeWarning: Mean of empty slice\n",
      "  return np.nanmean(a, axis, out=out, keepdims=keepdims)\n",
      "/Users/miguellobo/Development/UMinho-AA2/.env/lib/python3.7/site-packages/numpy/lib/nanfunctions.py:1076: RuntimeWarning: Mean of empty slice\n",
      "  return np.nanmean(a, axis, out=out, keepdims=keepdims)\n"
     ]
    },
    {
     "data": {
      "text/plain": [
       "((936, 20), (520, 20))"
      ]
     },
     "execution_count": 10,
     "metadata": {},
     "output_type": "execute_result"
    }
   ],
   "source": [
    "%autoreload\n",
    "from utils.OurPipeline import create_pipeline\n",
    "pipeline_sj = create_pipeline(attr)\n",
    "X_sj = pipeline_sj.fit_transform(X_sj_1)\n",
    "pipeline_iq = create_pipeline(attr)\n",
    "X_iq = pipeline_iq.fit_transform(X_iq_1)\n",
    "X_sj.shape, X_iq.shape"
   ]
  },
  {
   "cell_type": "code",
   "execution_count": 29,
   "metadata": {},
   "outputs": [
    {
     "data": {
      "text/plain": [
       "(8, 12)"
      ]
     },
     "execution_count": 29,
     "metadata": {},
     "output_type": "execute_result"
    }
   ],
   "source": [
    "from sklearn.feature_selection import SelectKBest, f_regression\n",
    "\n",
    "epsilon = 1e-2\n",
    "\n",
    "n_iq = sum(f_regression(X_iq, y_iq)[1] > epsilon)\n",
    "n_sj = sum(f_regression(X_sj, y_sj)[1] > epsilon)\n",
    "n_sj, n_iq"
   ]
  },
  {
   "cell_type": "markdown",
   "metadata": {},
   "source": [
    "#### Removal"
   ]
  },
  {
   "cell_type": "code",
   "execution_count": 30,
   "metadata": {},
   "outputs": [
    {
     "name": "stderr",
     "output_type": "stream",
     "text": [
      "/Users/miguellobo/Development/UMinho-AA2/.env/lib/python3.7/site-packages/numpy/lib/nanfunctions.py:1076: RuntimeWarning: Mean of empty slice\n",
      "  return np.nanmean(a, axis, out=out, keepdims=keepdims)\n",
      "/Users/miguellobo/Development/UMinho-AA2/.env/lib/python3.7/site-packages/numpy/lib/nanfunctions.py:1076: RuntimeWarning: Mean of empty slice\n",
      "  return np.nanmean(a, axis, out=out, keepdims=keepdims)\n"
     ]
    },
    {
     "data": {
      "text/plain": [
       "((936, 16), (520, 12))"
      ]
     },
     "execution_count": 30,
     "metadata": {},
     "output_type": "execute_result"
    }
   ],
   "source": [
    "%autoreload\n",
    "from utils.OurPipeline import create_pipeline\n",
    "pipeline_sj = create_pipeline(attr, k_best=M - n_sj)\n",
    "X_sj = pipeline_sj.fit_transform(X_sj_1, y_sj)\n",
    "\n",
    "pipeline_iq = create_pipeline(attr, k_best=M - n_iq)\n",
    "X_iq = pipeline_iq.fit_transform(X_iq_1, y_iq)\n",
    "X_sj.shape, X_iq.shape"
   ]
  },
  {
   "cell_type": "markdown",
   "metadata": {},
   "source": [
    "#### Correlation removal\n",
    "* Given that in the analysis notebook we could see there are many attributes with a lot of correlation we implemented a transformer (`CorrelationDeleter`) to remove one of each pair."
   ]
  },
  {
   "cell_type": "code",
   "execution_count": 33,
   "metadata": {},
   "outputs": [
    {
     "name": "stderr",
     "output_type": "stream",
     "text": [
      "/Users/miguellobo/Development/UMinho-AA2/.env/lib/python3.7/site-packages/numpy/lib/nanfunctions.py:1076: RuntimeWarning: Mean of empty slice\n",
      "  return np.nanmean(a, axis, out=out, keepdims=keepdims)\n",
      "/Users/miguellobo/Development/UMinho-AA2/.env/lib/python3.7/site-packages/numpy/lib/nanfunctions.py:1076: RuntimeWarning: Mean of empty slice\n",
      "  return np.nanmean(a, axis, out=out, keepdims=keepdims)\n"
     ]
    },
    {
     "data": {
      "text/plain": [
       "((936, 6), (520, 5))"
      ]
     },
     "execution_count": 33,
     "metadata": {},
     "output_type": "execute_result"
    }
   ],
   "source": [
    "%autoreload\n",
    "from utils.OurPipeline import create_pipeline\n",
    "pipeline_sj = create_pipeline(attr, k_best=M - n_sj, threshold_corr=0.6)\n",
    "X_sj = pipeline_sj.fit_transform(X_sj_1, y_sj)\n",
    "\n",
    "pipeline_iq = create_pipeline(attr, k_best=M - n_iq, threshold_corr=0.6)\n",
    "X_iq = pipeline_iq.fit_transform(X_iq_1, y_iq)\n",
    "X_sj.shape, X_iq.shape"
   ]
  },
  {
   "cell_type": "markdown",
   "metadata": {},
   "source": [
    "# Loading & preparing test data"
   ]
  },
  {
   "cell_type": "code",
   "execution_count": 85,
   "metadata": {},
   "outputs": [
    {
     "name": "stdout",
     "output_type": "stream",
     "text": [
      "(416, 24)\n"
     ]
    }
   ],
   "source": [
    "X_test_1 = pd.read_csv('data/dengue_features_test.csv')\n",
    "print(X_test_1.shape)"
   ]
  },
  {
   "cell_type": "code",
   "execution_count": 86,
   "metadata": {},
   "outputs": [
    {
     "data": {
      "text/plain": [
       "((260, 24), (156, 24))"
      ]
     },
     "execution_count": 86,
     "metadata": {},
     "output_type": "execute_result"
    }
   ],
   "source": [
    "sj = X_test_1['city'] == 'sj'\n",
    "X_test_sj_1 = X_test_1[sj]\n",
    "X_test_iq_1 = X_test_1[-sj]\n",
    "\n",
    "X_test_sj_1.shape, X_test_iq_1.shape"
   ]
  },
  {
   "cell_type": "code",
   "execution_count": 87,
   "metadata": {},
   "outputs": [
    {
     "data": {
      "text/plain": [
       "((260, 6), (156, 5))"
      ]
     },
     "execution_count": 87,
     "metadata": {},
     "output_type": "execute_result"
    }
   ],
   "source": [
    "X_test_sj = pipeline_sj.transform(X_test_sj_1)\n",
    "X_test_iq = pipeline_iq.transform(X_test_iq_1)\n",
    "\n",
    "n_sj = X_test_sj.shape[0]\n",
    "n_iq = X_test_iq.shape[0]\n",
    "m_sj = X_test_sj.shape[1]\n",
    "m_iq = X_test_iq.shape[1]\n",
    "\n",
    "X_test_sj.shape, X_test_iq.shape"
   ]
  },
  {
   "cell_type": "markdown",
   "metadata": {},
   "source": [
    "# Setting up for San Juan\n",
    "## Transforming the data into time sequences for San Juan\n",
    "* We had to create our own sequence generator because Keras one didn't allow multiple targets per sequence.\n",
    "* The value we are using for `san_juan` is 260 because it is the number of entries for that city in the test dataset."
   ]
  },
  {
   "cell_type": "code",
   "execution_count": 88,
   "metadata": {},
   "outputs": [
    {
     "data": {
      "text/plain": [
       "((676, 260, 6), (676, 260))"
      ]
     },
     "execution_count": 88,
     "metadata": {},
     "output_type": "execute_result"
    }
   ],
   "source": [
    "%autoreload\n",
    "from utils.OurTimeSequenceGenerator import generate_time_sequence\n",
    "x,y = generate_time_sequence(X_sj, y_sj, n_sj)\n",
    "x.shape, y.shape"
   ]
  },
  {
   "cell_type": "markdown",
   "metadata": {},
   "source": [
    "#### Stratified sample on sequence means\n",
    "* As we can see in the histogram below values of y vary a lot on average, per sequence, so we applied sampling with an equal distribution of those values."
   ]
  },
  {
   "cell_type": "code",
   "execution_count": 89,
   "metadata": {},
   "outputs": [
    {
     "data": {
      "image/png": "[encoded data removed]",
      "text/plain": [
       "<Figure size 432x288 with 1 Axes>"
      ]
     },
     "metadata": {
      "needs_background": "light"
     },
     "output_type": "display_data"
    }
   ],
   "source": [
    "import matplotlib.pyplot as plt\n",
    "plt.hist(np.mean(y, axis=1), bins=50)\n",
    "plt.show()"
   ]
  },
  {
   "cell_type": "code",
   "execution_count": 90,
   "metadata": {},
   "outputs": [
    {
     "data": {
      "text/plain": [
       "((338, 260, 6), (338, 260), (338, 260, 6), (338, 260))"
      ]
     },
     "execution_count": 90,
     "metadata": {},
     "output_type": "execute_result"
    }
   ],
   "source": [
    "%autoreload\n",
    "from utils.StratifiedRegressionSampling import stratified_regression_split\n",
    "X_sj_train_strat, y_sj_train_strat, X_sj_test_strat, y_sj_test_strat = stratified_regression_split(x, y, 50, train_size=0.5, mean=True)\n",
    "X_sj_train_strat.shape, y_sj_train_strat.shape, X_sj_test_strat.shape, y_sj_test_strat.shape"
   ]
  },
  {
   "cell_type": "markdown",
   "metadata": {},
   "source": [
    "## Training the model\n",
    "* Hyperparametrization here would definitely be too expensive.\n",
    "* We obtained validation scores of little more than 10, which is very good."
   ]
  },
  {
   "cell_type": "code",
   "execution_count": 94,
   "metadata": {},
   "outputs": [
    {
     "name": "stdout",
     "output_type": "stream",
     "text": [
      "Model: \"sequential_11\"\n",
      "_________________________________________________________________\n",
      "Layer (type)                 Output Shape              Param #   \n",
      "=================================================================\n",
      "unified_lstm_11 (UnifiedLSTM (None, 400)               651200    \n",
      "_________________________________________________________________\n",
      "dense_44 (Dense)             (None, 350)               140350    \n",
      "_________________________________________________________________\n",
      "dense_45 (Dense)             (None, 300)               105300    \n",
      "_________________________________________________________________\n",
      "dense_46 (Dense)             (None, 260)               78260     \n",
      "=================================================================\n",
      "Total params: 975,110\n",
      "Trainable params: 975,110\n",
      "Non-trainable params: 0\n",
      "_________________________________________________________________\n",
      "Restoring model weights from the end of the best epoch.\n",
      "Epoch 00263: early stopping\n"
     ]
    }
   ],
   "source": [
    "from tensorflow.keras.models import Sequential\n",
    "from tensorflow.keras import layers\n",
    "from tensorflow.keras.optimizers import RMSprop\n",
    "\n",
    "early_stop = EarlyStopping(monitor='val_loss', min_delta=1e-1, patience=30, verbose=2, mode='min', restore_best_weights=True)\n",
    "\n",
    "model = Sequential()\n",
    "model.add(layers.LSTM(400, input_shape=(None, X_sj_train_strat.shape[2])))\n",
    "model.add(layers.Dense(350))\n",
    "model.add(layers.Dense(300))\n",
    "model.add(layers.Dense(n_sj, activation='relu'))\n",
    "\n",
    "model.compile(optimizer=RMSprop(), loss='mae')\n",
    "model.summary()\n",
    "history = model.fit(X_sj_train_strat, y_sj_train_strat, callbacks=[early_stop], batch_size=32, epochs=1000, validation_data=(X_sj_test_strat, y_sj_test_strat), verbose=0)\n",
    "model.save('san_juan.h5')"
   ]
  },
  {
   "cell_type": "code",
   "execution_count": 95,
   "metadata": {},
   "outputs": [
    {
     "data": {
      "image/png": "[encoded data removed]",
      "text/plain": [
       "<Figure size 432x288 with 1 Axes>"
      ]
     },
     "metadata": {
      "needs_background": "light"
     },
     "output_type": "display_data"
    }
   ],
   "source": [
    "%autoreload\n",
    "from utils.print_history_loss import print_history_loss\n",
    "print_history_loss(history)"
   ]
  },
  {
   "cell_type": "markdown",
   "metadata": {},
   "source": [
    "# Setting up for Iquitos\n",
    "## Transforming the data into time sequences for Iquito\n",
    "* We had to create our own sequence generator because Keras one didn't allow multiple targets per sequence.\n",
    "* The value we are using for `iquitos` is 156 because it is the number of entries for that city in the test dataset."
   ]
  },
  {
   "cell_type": "code",
   "execution_count": 96,
   "metadata": {},
   "outputs": [
    {
     "data": {
      "text/plain": [
       "((364, 156, 5), (364, 156))"
      ]
     },
     "execution_count": 96,
     "metadata": {},
     "output_type": "execute_result"
    }
   ],
   "source": [
    "%autoreload\n",
    "from utils.OurTimeSequenceGenerator import generate_time_sequence\n",
    "x,y = generate_time_sequence(X_iq, y_iq, n_iq)\n",
    "x.shape, y.shape"
   ]
  },
  {
   "cell_type": "markdown",
   "metadata": {},
   "source": [
    "#### Stratified sample on sequence means\n",
    "* As we can see in the histogram below values of y vary a lot on average, per sequence, so we applied sampling with an equal distribution of those values."
   ]
  },
  {
   "cell_type": "code",
   "execution_count": 97,
   "metadata": {},
   "outputs": [
    {
     "data": {
      "image/png": "[encoded data removed]",
      "text/plain": [
       "<Figure size 432x288 with 1 Axes>"
      ]
     },
     "metadata": {
      "needs_background": "light"
     },
     "output_type": "display_data"
    }
   ],
   "source": [
    "import matplotlib.pyplot as plt\n",
    "plt.hist(np.mean(y, axis=1), bins=50)\n",
    "plt.show()"
   ]
  },
  {
   "cell_type": "code",
   "execution_count": 98,
   "metadata": {},
   "outputs": [
    {
     "data": {
      "text/plain": [
       "((182, 156, 5), (182, 156), (182, 156, 5), (182, 156))"
      ]
     },
     "execution_count": 98,
     "metadata": {},
     "output_type": "execute_result"
    }
   ],
   "source": [
    "%autoreload\n",
    "from utils.StratifiedRegressionSampling import stratified_regression_split\n",
    "X_iq_train_strat, y_iq_train_strat, X_iq_test_strat, y_iq_test_strat = stratified_regression_split(x, y, 50, train_size=0.5, mean=True)\n",
    "X_iq_train_strat.shape, y_iq_train_strat.shape, X_iq_test_strat.shape, y_iq_test_strat.shape"
   ]
  },
  {
   "cell_type": "markdown",
   "metadata": {},
   "source": [
    "## Training the model\n",
    "* Hyperparametrization here would definitely be too expensive.\n",
    "* We obtained validation scores of little more than 4, which is really great."
   ]
  },
  {
   "cell_type": "code",
   "execution_count": 99,
   "metadata": {},
   "outputs": [
    {
     "name": "stdout",
     "output_type": "stream",
     "text": [
      "Model: \"sequential_12\"\n",
      "_________________________________________________________________\n",
      "Layer (type)                 Output Shape              Param #   \n",
      "=================================================================\n",
      "unified_lstm_12 (UnifiedLSTM (None, 300)               367200    \n",
      "_________________________________________________________________\n",
      "dense_47 (Dense)             (None, 250)               75250     \n",
      "_________________________________________________________________\n",
      "dense_48 (Dense)             (None, 200)               50200     \n",
      "_________________________________________________________________\n",
      "dense_49 (Dense)             (None, 156)               31356     \n",
      "=================================================================\n",
      "Total params: 524,006\n",
      "Trainable params: 524,006\n",
      "Non-trainable params: 0\n",
      "_________________________________________________________________\n",
      "Restoring model weights from the end of the best epoch.\n",
      "Epoch 00192: early stopping\n"
     ]
    }
   ],
   "source": [
    "from tensorflow.keras.models import Sequential\n",
    "from tensorflow.keras import layers\n",
    "from tensorflow.keras.optimizers import RMSprop\n",
    "\n",
    "early_stop = EarlyStopping(monitor='val_loss', min_delta=1e-1, patience=30, verbose=2, mode='min', restore_best_weights=True)\n",
    "\n",
    "model = Sequential()\n",
    "model.add(layers.LSTM(300, input_shape=(None, X_iq_train_strat.shape[2])))\n",
    "model.add(layers.Dense(250))\n",
    "model.add(layers.Dense(200))\n",
    "model.add(layers.Dense(n_iq, activation='relu'))\n",
    "\n",
    "model.compile(optimizer=RMSprop(), loss='mae')\n",
    "model.summary()\n",
    "history = model.fit(X_iq_train_strat, y_iq_train_strat, callbacks=[early_stop], batch_size=32, epochs=2000, validation_data=(X_iq_test_strat, y_iq_test_strat), verbose=0)\n",
    "model.save('iquitos.h5')"
   ]
  },
  {
   "cell_type": "code",
   "execution_count": 100,
   "metadata": {},
   "outputs": [
    {
     "data": {
      "image/png": "[encoded data removed]",
      "text/plain": [
       "<Figure size 432x288 with 1 Axes>"
      ]
     },
     "metadata": {
      "needs_background": "light"
     },
     "output_type": "display_data"
    }
   ],
   "source": [
    "%autoreload\n",
    "from utils.print_history_loss import print_history_loss\n",
    "print_history_loss(history)"
   ]
  },
  {
   "cell_type": "markdown",
   "metadata": {},
   "source": [
    "# Submit\n",
    "* This submission resulted in a score of 27 (MAE). It's more than expected given the validation scores obtained above."
   ]
  },
  {
   "cell_type": "code",
   "execution_count": 101,
   "metadata": {},
   "outputs": [],
   "source": [
    "model_sj = load_model('san_juan.h5')\n",
    "model_iq = load_model('iquitos.h5')"
   ]
  },
  {
   "cell_type": "code",
   "execution_count": 102,
   "metadata": {},
   "outputs": [],
   "source": [
    "pred_sj = model_sj.predict(X_test_sj.reshape(-1, n_sj, m_sj))[0].tolist()\n",
    "pred_iq = model_iq.predict(X_test_iq.reshape(-1, n_iq, m_iq))[0].tolist()"
   ]
  },
  {
   "cell_type": "code",
   "execution_count": 103,
   "metadata": {},
   "outputs": [
    {
     "data": {
      "text/plain": [
       "416"
      ]
     },
     "execution_count": 103,
     "metadata": {},
     "output_type": "execute_result"
    }
   ],
   "source": [
    "pred = pred_sj + pred_iq\n",
    "pred = list(map(lambda x: int(np.round(x)), pred))\n",
    "len(pred)"
   ]
  },
  {
   "cell_type": "code",
   "execution_count": 104,
   "metadata": {},
   "outputs": [],
   "source": [
    "submit = pd.DataFrame(pred, columns=['total_cases'])\n",
    "x_3 = X_test_1.iloc[:,:3].copy()\n",
    "submit = pd.concat([x_3, submit], axis=1)\n",
    "submit.to_csv('data/submit.csv', index=False)"
   ]
  },
  {
   "cell_type": "markdown",
   "metadata": {},
   "source": [
    "### Identifying the problem\n",
    "* As you can see below, given that the model was not aware of the y in the week previous to the beginning of the sequence, there's a big gap in the beggining of the predicted sequences.\n",
    "* The ideal solution would be to also provide information about the previous week number of infected."
   ]
  },
  {
   "cell_type": "code",
   "execution_count": 115,
   "metadata": {},
   "outputs": [
    {
     "data": {
      "text/plain": [
       "935    5\n",
       "Name: total_cases, dtype: int64"
      ]
     },
     "execution_count": 115,
     "metadata": {},
     "output_type": "execute_result"
    }
   ],
   "source": [
    "y_sj[-1:]"
   ]
  },
  {
   "cell_type": "code",
   "execution_count": 114,
   "metadata": {},
   "outputs": [
    {
     "data": {
      "text/plain": [
       "12.094279289245605"
      ]
     },
     "execution_count": 114,
     "metadata": {},
     "output_type": "execute_result"
    }
   ],
   "source": [
    "pred_sj[0]"
   ]
  }
 ],
 "metadata": {
  "kernelspec": {
   "display_name": "Python 3",
   "language": "python",
   "name": "python3"
  },
  "language_info": {
   "codemirror_mode": {
    "name": "ipython",
    "version": 3
   },
   "file_extension": ".py",
   "mimetype": "text/x-python",
   "name": "python",
   "nbconvert_exporter": "python",
   "pygments_lexer": "ipython3",
   "version": "3.7.2"
  }
 },
 "nbformat": 4,
 "nbformat_minor": 2
}
