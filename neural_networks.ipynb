{
 "cells": [
  {
   "cell_type": "code",
   "execution_count": 1,
   "metadata": {},
   "outputs": [],
   "source": [
    "%load_ext autoreload\n",
    "import pandas as pd\n",
    "import numpy as np\n",
    "from sklearn.model_selection import RandomizedSearchCV\n",
    "from sklearn.neural_network import MLPRegressor\n",
    "from scipy.stats import randint as sp_randint\n",
    "from scipy.stats import uniform as sp_uniform\n",
    "import tensorflow as tf\n",
    "from tensorflow.keras import models\n",
    "from tensorflow.keras import layers\n",
    "from tensorflow.keras import optimizers\n",
    "from tensorflow.keras.callbacks import EarlyStopping"
   ]
  },
  {
   "cell_type": "code",
   "execution_count": 2,
   "metadata": {},
   "outputs": [
    {
     "name": "stdout",
     "output_type": "stream",
     "text": [
      "2.0.0-alpha0\n"
     ]
    }
   ],
   "source": [
    "print(tf.__version__)"
   ]
  },
  {
   "cell_type": "code",
   "execution_count": 3,
   "metadata": {},
   "outputs": [
    {
     "data": {
      "text/plain": [
       "['city',\n",
       " 'year',\n",
       " 'weekofyear',\n",
       " 'week_start_date',\n",
       " 'ndvi_ne',\n",
       " 'ndvi_nw',\n",
       " 'ndvi_se',\n",
       " 'ndvi_sw',\n",
       " 'precipitation_amt_mm',\n",
       " 'reanalysis_air_temp_k',\n",
       " 'reanalysis_avg_temp_k',\n",
       " 'reanalysis_dew_point_temp_k',\n",
       " 'reanalysis_max_air_temp_k',\n",
       " 'reanalysis_min_air_temp_k',\n",
       " 'reanalysis_precip_amt_kg_per_m2',\n",
       " 'reanalysis_relative_humidity_percent',\n",
       " 'reanalysis_sat_precip_amt_mm',\n",
       " 'reanalysis_specific_humidity_g_per_kg',\n",
       " 'reanalysis_tdtr_k',\n",
       " 'station_avg_temp_c',\n",
       " 'station_diur_temp_rng_c',\n",
       " 'station_max_temp_c',\n",
       " 'station_min_temp_c',\n",
       " 'station_precip_mm']"
      ]
     },
     "execution_count": 3,
     "metadata": {},
     "output_type": "execute_result"
    }
   ],
   "source": [
    "X_train_1 = pd.read_csv('data/dengue_features_train.csv')\n",
    "y_train = pd.read_csv('data/dengue_labels_train.csv')['total_cases']\n",
    "attr = list(X_train_1)\n",
    "attr"
   ]
  },
  {
   "cell_type": "markdown",
   "metadata": {},
   "source": [
    "## Cleaning the noisy training data"
   ]
  },
  {
   "cell_type": "code",
   "execution_count": 4,
   "metadata": {},
   "outputs": [
    {
     "data": {
      "text/plain": [
       "(1451, 24)"
      ]
     },
     "execution_count": 4,
     "metadata": {},
     "output_type": "execute_result"
    }
   ],
   "source": [
    "def bools_to_indexes(booleans):\n",
    "    r = []\n",
    "    for idx, x in enumerate(booleans):\n",
    "        if x:\n",
    "            r.append(idx)\n",
    "    return r\n",
    "\n",
    "idx = bools_to_indexes(X_train_1['weekofyear'] == 53)\n",
    "y_train.drop(idx, inplace=True)\n",
    "y_train.reset_index(drop=True, inplace=True)\n",
    "X_train_1.drop(idx, inplace=True)\n",
    "X_train_1.reset_index(drop=True, inplace=True)\n",
    "X_train_1.shape"
   ]
  },
  {
   "cell_type": "markdown",
   "metadata": {},
   "source": [
    "## Preparing the data"
   ]
  },
  {
   "cell_type": "code",
   "execution_count": 5,
   "metadata": {},
   "outputs": [
    {
     "data": {
      "text/plain": [
       "(1451, 20)"
      ]
     },
     "execution_count": 5,
     "metadata": {},
     "output_type": "execute_result"
    }
   ],
   "source": [
    "%autoreload\n",
    "from utils.OurPipeline import create_pipeline\n",
    "\n",
    "pipeline = create_pipeline(attr)\n",
    "X_train = pipeline.fit_transform(X_train_1)\n",
    "N, M = X_train.shape\n",
    "N, M "
   ]
  },
  {
   "cell_type": "markdown",
   "metadata": {},
   "source": [
    "# Trying models"
   ]
  },
  {
   "cell_type": "code",
   "execution_count": 6,
   "metadata": {},
   "outputs": [],
   "source": [
    "score_metric='neg_mean_absolute_error'\n",
    "n_jobs=-1\n",
    "iid = False\n",
    "verbose_level = 2\n",
    "k_folds=10 \n",
    "n_iter_search=20"
   ]
  },
  {
   "cell_type": "markdown",
   "metadata": {},
   "source": [
    "## Simple MLP with Scikit-Learn\n",
    "* First we will try with a simple Multilayer Perceptron.\n",
    "* According to the book 'Hands-On Machine Learning with Scikit-Learn and TensorFlow: Concepts, Tools, and Techniques to Build Intelligent Systems', applying the RELU activation function to all the hidden layers is a good idea.\n",
    "* Here we will simply be searching through the different initial learning rates\n",
    "* The ideal number of layers appears to be 7, however the scores are still very high."
   ]
  },
  {
   "cell_type": "markdown",
   "metadata": {},
   "source": [
    "#### Defining generic values"
   ]
  },
  {
   "cell_type": "code",
   "execution_count": 7,
   "metadata": {},
   "outputs": [],
   "source": [
    "activation = 'relu'\n",
    "train_algorithm = 'adam'\n",
    "learn_rate_mode = 'adaptive'\n",
    "learn_rate_val = 0.001\n",
    "batch_size = 200\n",
    "max_iter = 5000\n",
    "random_n = 42\n",
    "tol_val = 1e-4\n",
    "n_iter_tol = 20\n",
    "verb=False\n",
    "\n",
    "early_stop=True\n",
    "val_faction = 0.1\n",
    "\n",
    "params = {\n",
    "    #'hidden_layer_sizes': [sp_randint(30, 52), sp_randint(16, 30), sp_randint(4, 16)],\n",
    "    'learning_rate_init': sp_uniform(1e-4, 1)\n",
    "    \n",
    "}"
   ]
  },
  {
   "cell_type": "markdown",
   "metadata": {},
   "source": [
    "### 7-layer perceptron"
   ]
  },
  {
   "cell_type": "code",
   "execution_count": 8,
   "metadata": {},
   "outputs": [
    {
     "name": "stdout",
     "output_type": "stream",
     "text": [
      "Fitting 10 folds for each of 20 candidates, totalling 200 fits\n"
     ]
    },
    {
     "name": "stderr",
     "output_type": "stream",
     "text": [
      "[Parallel(n_jobs=-1)]: Using backend LokyBackend with 4 concurrent workers.\n",
      "[Parallel(n_jobs=-1)]: Done  33 tasks      | elapsed:    5.2s\n",
      "[Parallel(n_jobs=-1)]: Done 154 tasks      | elapsed:   18.6s\n",
      "[Parallel(n_jobs=-1)]: Done 200 out of 200 | elapsed:   25.7s finished\n"
     ]
    },
    {
     "data": {
      "text/plain": [
       "(MLPRegressor(activation='relu', alpha=0.0001, batch_size=200, beta_1=0.9,\n",
       "              beta_2=0.999, early_stopping=True, epsilon=1e-08,\n",
       "              hidden_layer_sizes=[20, 15, 10, 7, 5], learning_rate='adaptive',\n",
       "              learning_rate_init=0.08729830669792406, max_iter=5000,\n",
       "              momentum=0.9, n_iter_no_change=20, nesterovs_momentum=True,\n",
       "              power_t=0.5, random_state=42, shuffle=True, solver='adam',\n",
       "              tol=0.0001, validation_fraction=0.1, verbose=False,\n",
       "              warm_start=False), -22.15315382994808)"
      ]
     },
     "execution_count": 8,
     "metadata": {},
     "output_type": "execute_result"
    }
   ],
   "source": [
    "neurons_per_layer = [20, 15, 10, 7, 5]\n",
    "\n",
    "mlp = MLPRegressor(hidden_layer_sizes=neurons_per_layer, activation=activation, max_iter=max_iter, solver=train_algorithm, learning_rate=learn_rate_mode, batch_size=batch_size, random_state=random_n, tol=tol_val, verbose=verb, early_stopping=early_stop, validation_fraction=val_faction, n_iter_no_change=n_iter_tol)\n",
    "MLP_Optimizer = RandomizedSearchCV(mlp, param_distributions=params, cv=k_folds, n_iter=n_iter_search, scoring=score_metric, n_jobs=n_jobs, verbose=verbose_level, iid=iid, return_train_score=True)\n",
    "MLP_Optimizer.fit(X_train, y_train)\n",
    "MLP_Optimizer.best_estimator_, MLP_Optimizer.best_score_"
   ]
  },
  {
   "cell_type": "markdown",
   "metadata": {},
   "source": [
    "### 6-layer perceptron"
   ]
  },
  {
   "cell_type": "code",
   "execution_count": 9,
   "metadata": {},
   "outputs": [
    {
     "name": "stdout",
     "output_type": "stream",
     "text": [
      "Fitting 10 folds for each of 20 candidates, totalling 200 fits\n"
     ]
    },
    {
     "name": "stderr",
     "output_type": "stream",
     "text": [
      "[Parallel(n_jobs=-1)]: Using backend LokyBackend with 4 concurrent workers.\n",
      "[Parallel(n_jobs=-1)]: Done  33 tasks      | elapsed:    3.9s\n",
      "[Parallel(n_jobs=-1)]: Done 154 tasks      | elapsed:   18.5s\n",
      "[Parallel(n_jobs=-1)]: Done 200 out of 200 | elapsed:   23.8s finished\n"
     ]
    },
    {
     "data": {
      "text/plain": [
       "(MLPRegressor(activation='relu', alpha=0.0001, batch_size=200, beta_1=0.9,\n",
       "              beta_2=0.999, early_stopping=True, epsilon=1e-08,\n",
       "              hidden_layer_sizes=[18, 15, 11, 6], learning_rate='adaptive',\n",
       "              learning_rate_init=0.1994901720631599, max_iter=5000, momentum=0.9,\n",
       "              n_iter_no_change=20, nesterovs_momentum=True, power_t=0.5,\n",
       "              random_state=42, shuffle=True, solver='adam', tol=0.0001,\n",
       "              validation_fraction=0.1, verbose=False, warm_start=False),\n",
       " -20.896769284991095)"
      ]
     },
     "execution_count": 9,
     "metadata": {},
     "output_type": "execute_result"
    }
   ],
   "source": [
    "neurons_per_layer = [18, 15, 11, 6]\n",
    "\n",
    "mlp = MLPRegressor(hidden_layer_sizes=neurons_per_layer, activation=activation, max_iter=max_iter, solver=train_algorithm, learning_rate=learn_rate_mode, batch_size=batch_size, random_state=random_n, tol=tol_val, verbose=verb, early_stopping=early_stop, validation_fraction=val_faction, n_iter_no_change=n_iter_tol)\n",
    "MLP_Optimizer = RandomizedSearchCV(mlp, param_distributions=params, cv=k_folds, n_iter=n_iter_search, scoring=score_metric, n_jobs=n_jobs, verbose=verbose_level, iid=iid, return_train_score=True)\n",
    "MLP_Optimizer.fit(X_train, y_train)\n",
    "MLP_Optimizer.best_estimator_, MLP_Optimizer.best_score_"
   ]
  },
  {
   "cell_type": "markdown",
   "metadata": {},
   "source": [
    "### 5-layer perceptron"
   ]
  },
  {
   "cell_type": "code",
   "execution_count": 13,
   "metadata": {},
   "outputs": [
    {
     "name": "stdout",
     "output_type": "stream",
     "text": [
      "Fitting 10 folds for each of 20 candidates, totalling 200 fits\n"
     ]
    },
    {
     "name": "stderr",
     "output_type": "stream",
     "text": [
      "[Parallel(n_jobs=-1)]: Using backend LokyBackend with 4 concurrent workers.\n",
      "[Parallel(n_jobs=-1)]: Done  33 tasks      | elapsed:    6.4s\n",
      "[Parallel(n_jobs=-1)]: Done 154 tasks      | elapsed:   23.0s\n",
      "[Parallel(n_jobs=-1)]: Done 200 out of 200 | elapsed:   30.9s finished\n"
     ]
    },
    {
     "data": {
      "text/plain": [
       "(MLPRegressor(activation='relu', alpha=0.0001, batch_size=200, beta_1=0.9,\n",
       "              beta_2=0.999, early_stopping=True, epsilon=1e-08,\n",
       "              hidden_layer_sizes=[15, 10, 5], learning_rate='adaptive',\n",
       "              learning_rate_init=0.020546480378377707, max_iter=5000,\n",
       "              momentum=0.9, n_iter_no_change=20, nesterovs_momentum=True,\n",
       "              power_t=0.5, random_state=42, shuffle=True, solver='adam',\n",
       "              tol=0.0001, validation_fraction=0.1, verbose=False,\n",
       "              warm_start=False), -21.200566970027445)"
      ]
     },
     "execution_count": 13,
     "metadata": {},
     "output_type": "execute_result"
    }
   ],
   "source": [
    "neurons_per_layer = [15, 10, 5]\n",
    "\n",
    "mlp = MLPRegressor(hidden_layer_sizes=neurons_per_layer, activation=activation, max_iter=max_iter, solver=train_algorithm, learning_rate=learn_rate_mode, batch_size=batch_size, random_state=random_n, tol=tol_val, verbose=verb, early_stopping=early_stop, validation_fraction=val_faction, n_iter_no_change=n_iter_tol)\n",
    "MLP_Optimizer = RandomizedSearchCV(mlp, param_distributions=params, cv=k_folds, n_iter=n_iter_search, scoring=score_metric, n_jobs=n_jobs, verbose=verbose_level, iid=iid, return_train_score=True)\n",
    "MLP_Optimizer.fit(X_train, y_train)\n",
    "MLP_Optimizer.best_estimator_, MLP_Optimizer.best_score_"
   ]
  },
  {
   "cell_type": "markdown",
   "metadata": {},
   "source": [
    "### 4-layer perceptron"
   ]
  },
  {
   "cell_type": "code",
   "execution_count": 14,
   "metadata": {},
   "outputs": [
    {
     "name": "stdout",
     "output_type": "stream",
     "text": [
      "Fitting 10 folds for each of 20 candidates, totalling 200 fits\n"
     ]
    },
    {
     "name": "stderr",
     "output_type": "stream",
     "text": [
      "[Parallel(n_jobs=-1)]: Using backend LokyBackend with 4 concurrent workers.\n",
      "[Parallel(n_jobs=-1)]: Done  58 tasks      | elapsed:    4.2s\n",
      "[Parallel(n_jobs=-1)]: Done 200 out of 200 | elapsed:   14.3s finished\n"
     ]
    },
    {
     "data": {
      "text/plain": [
       "(MLPRegressor(activation='relu', alpha=0.0001, batch_size=200, beta_1=0.9,\n",
       "              beta_2=0.999, early_stopping=True, epsilon=1e-08,\n",
       "              hidden_layer_sizes=[15, 5], learning_rate='adaptive',\n",
       "              learning_rate_init=0.37241539488806297, max_iter=5000,\n",
       "              momentum=0.9, n_iter_no_change=20, nesterovs_momentum=True,\n",
       "              power_t=0.5, random_state=42, shuffle=True, solver='adam',\n",
       "              tol=0.0001, validation_fraction=0.1, verbose=False,\n",
       "              warm_start=False), -20.65867561536846)"
      ]
     },
     "execution_count": 14,
     "metadata": {},
     "output_type": "execute_result"
    }
   ],
   "source": [
    "neurons_per_layer = [15, 5]\n",
    "\n",
    "mlp = MLPRegressor(hidden_layer_sizes=neurons_per_layer, activation=activation, max_iter=max_iter, solver=train_algorithm, learning_rate=learn_rate_mode, batch_size=batch_size, random_state=random_n, tol=tol_val, verbose=verb, early_stopping=early_stop, validation_fraction=val_faction, n_iter_no_change=n_iter_tol)\n",
    "MLP_Optimizer = RandomizedSearchCV(mlp, param_distributions=params, cv=k_folds, n_iter=n_iter_search, scoring=score_metric, n_jobs=n_jobs, verbose=verbose_level, iid=iid, return_train_score=True)\n",
    "MLP_Optimizer.fit(X_train, y_train)\n",
    "MLP_Optimizer.best_estimator_, MLP_Optimizer.best_score_"
   ]
  },
  {
   "cell_type": "markdown",
   "metadata": {},
   "source": [
    "## Simple MLP with Keras on top of Tensorflow\n",
    "* We will just try the amount of layers (6) which gave the ideal results with the Sci-kit API. \n",
    "* The first layer cannot use the activation function RELU given that the data was standardized.\n",
    "* Sigmoid is okay given that its codomain is between 0 and 1 and that the RELU is linear above 0."
   ]
  },
  {
   "cell_type": "code",
   "execution_count": 10,
   "metadata": {},
   "outputs": [],
   "source": [
    "learn_rate = 0.0001\n",
    "optim = optimizers.Adam(lr=learn_rate)\n",
    "loss_fun = 'mae'"
   ]
  },
  {
   "cell_type": "code",
   "execution_count": 11,
   "metadata": {},
   "outputs": [
    {
     "name": "stdout",
     "output_type": "stream",
     "text": [
      "Model: \"sequential\"\n",
      "_________________________________________________________________\n",
      "Layer (type)                 Output Shape              Param #   \n",
      "=================================================================\n",
      "dense (Dense)                (None, 20)                420       \n",
      "_________________________________________________________________\n",
      "dense_1 (Dense)              (None, 35)                735       \n",
      "_________________________________________________________________\n",
      "dense_2 (Dense)              (None, 25)                900       \n",
      "_________________________________________________________________\n",
      "dense_3 (Dense)              (None, 15)                390       \n",
      "_________________________________________________________________\n",
      "dense_4 (Dense)              (None, 10)                160       \n",
      "_________________________________________________________________\n",
      "dense_5 (Dense)              (None, 1)                 11        \n",
      "=================================================================\n",
      "Total params: 2,616\n",
      "Trainable params: 2,616\n",
      "Non-trainable params: 0\n",
      "_________________________________________________________________\n"
     ]
    }
   ],
   "source": [
    "%autoreload\n",
    "from utils.MLP import create_mlp\n",
    "neurons_per_layer = [35, 25, 15, 10]\n",
    "\n",
    "network = create_mlp(neurons_per_layer=neurons_per_layer, nr_of_features=M, optim_func=optim, loss_func=loss_fun)\n",
    "network.summary()\n",
    "\n",
    "from utils.print_history_loss import print_history_loss\n",
    "\n",
    "history_fit = network.fit(X_train, y_train, epochs=500, batch_size=150, verbose=0, validation_split=0.5, shuffle=True)"
   ]
  },
  {
   "cell_type": "code",
   "execution_count": 12,
   "metadata": {},
   "outputs": [
    {
     "data": {
      "image/png": "[encoded data removed]",
      "text/plain": [
       "<Figure size 432x288 with 1 Axes>"
      ]
     },
     "metadata": {
      "needs_background": "light"
     },
     "output_type": "display_data"
    }
   ],
   "source": [
    "print_history_loss(history_fit)"
   ]
  },
  {
   "cell_type": "markdown",
   "metadata": {},
   "source": [
    "## Stratified sampling\n",
    "* The learning curves obtained above are very odd. The validation starts with a very small loss that starts increasing as the model overfits the training data. This is probably because the validation data is very \"easy\" to predict or all the same. We are going to apply stratified sampling  in order to try and fix this. Y is a continuous variable, therefore stratification is tricky.\n",
    "* Stratified sampling result was absolutely what we needed as we can see in the learning curves below. It made the train and test data more similar."
   ]
  },
  {
   "cell_type": "code",
   "execution_count": 17,
   "metadata": {},
   "outputs": [
    {
     "data": {
      "text/plain": [
       "((1160, 20), (1160,), (291, 20), (291,))"
      ]
     },
     "execution_count": 17,
     "metadata": {},
     "output_type": "execute_result"
    }
   ],
   "source": [
    "from sklearn.model_selection import StratifiedShuffleSplit\n",
    "#train_strat, test_strat = sss.split(X_train, y_train)\n",
    "\n",
    "# Create the bins. Given that y is not uniformly distributed at all (as you can see in the analysis notebook histogram), we created bins every 100 values.\n",
    "y_sorted = np.sort(y_train)\n",
    "bins = []\n",
    "for idx, val in enumerate(y_sorted):\n",
    "    if (idx % 100) == 0:\n",
    "        bins.append(val)\n",
    "\n",
    "# Save your Y values in a new ndarray,\n",
    "# broken down by the bins created above.\n",
    "\n",
    "y_binned = np.digitize(y_train, bins)\n",
    "\n",
    "sss = StratifiedShuffleSplit(n_splits=1, train_size=0.7, random_state=42)\n",
    "for train_index, test_index in sss.split(X_train, y_binned):\n",
    "    X_train_strat, X_test_strat = X_train[train_index], X_train[test_index]\n",
    "    y_train_strat, y_test_strat = y_train[train_index], y_train[test_index]\n",
    "    \n",
    "X_train_strat.shape, y_train_strat.shape, X_test_strat.shape, y_test_strat.shape"
   ]
  },
  {
   "cell_type": "markdown",
   "metadata": {},
   "source": [
    "### Training the model with EarlyStopping callback\n",
    "* Making the model stop training when there doesn't appear to be any improvement"
   ]
  },
  {
   "cell_type": "code",
   "execution_count": 27,
   "metadata": {},
   "outputs": [
    {
     "name": "stdout",
     "output_type": "stream",
     "text": [
      "Model: \"sequential_8\"\n",
      "_________________________________________________________________\n",
      "Layer (type)                 Output Shape              Param #   \n",
      "=================================================================\n",
      "dense_48 (Dense)             (None, 20)                420       \n",
      "_________________________________________________________________\n",
      "dense_49 (Dense)             (None, 35)                735       \n",
      "_________________________________________________________________\n",
      "dense_50 (Dense)             (None, 25)                900       \n",
      "_________________________________________________________________\n",
      "dense_51 (Dense)             (None, 15)                390       \n",
      "_________________________________________________________________\n",
      "dense_52 (Dense)             (None, 10)                160       \n",
      "_________________________________________________________________\n",
      "dense_53 (Dense)             (None, 1)                 11        \n",
      "=================================================================\n",
      "Total params: 2,616\n",
      "Trainable params: 2,616\n",
      "Non-trainable params: 0\n",
      "_________________________________________________________________\n",
      "Restoring model weights from the end of the best epoch.\n",
      "Epoch 01491: early stopping\n"
     ]
    },
    {
     "data": {
      "image/png": "[encoded data removed]",
      "text/plain": [
       "<Figure size 432x288 with 1 Axes>"
      ]
     },
     "metadata": {
      "needs_background": "light"
     },
     "output_type": "display_data"
    },
    {
     "data": {
      "text/plain": [
       "17.974709659541418"
      ]
     },
     "execution_count": 27,
     "metadata": {},
     "output_type": "execute_result"
    }
   ],
   "source": [
    "%autoreload\n",
    "from utils.MLP import create_mlp\n",
    "from utils.print_history_loss import print_history_loss\n",
    "\n",
    "neurons_per_layer = [35, 25, 15, 10]\n",
    "\n",
    "network = create_mlp(neurons_per_layer=neurons_per_layer, nr_of_features=M, optim_func=optim, loss_func=loss_fun)\n",
    "network.summary()\n",
    "\n",
    "\n",
    "early_stop = EarlyStopping(monitor='val_loss', min_delta=5e-2, patience=500, verbose=2, mode='min', restore_best_weights=True)\n",
    "\n",
    "history_fit = network.fit(X_train_strat, y_train_strat, validation_data=(X_test_strat, y_test_strat), callbacks=[early_stop], epochs=10000, batch_size=150, verbose=0, shuffle=True)\n",
    "print_history_loss(history_fit)\n",
    "min(history_fit.history['val_loss'])"
   ]
  },
  {
   "cell_type": "markdown",
   "metadata": {},
   "source": [
    "# Recurrent neural networks\n",
    "* Here we will take advantage of the fact that we are talking about sequential data. For that reason we must **split cities** and we **can't drop rows**.\n",
    "\n",
    "## Loading the data again\n",
    "* since we dropped some rows."
   ]
  },
  {
   "cell_type": "code",
   "execution_count": 108,
   "metadata": {},
   "outputs": [
    {
     "data": {
      "text/plain": [
       "['city',\n",
       " 'year',\n",
       " 'weekofyear',\n",
       " 'week_start_date',\n",
       " 'ndvi_ne',\n",
       " 'ndvi_nw',\n",
       " 'ndvi_se',\n",
       " 'ndvi_sw',\n",
       " 'precipitation_amt_mm',\n",
       " 'reanalysis_air_temp_k',\n",
       " 'reanalysis_avg_temp_k',\n",
       " 'reanalysis_dew_point_temp_k',\n",
       " 'reanalysis_max_air_temp_k',\n",
       " 'reanalysis_min_air_temp_k',\n",
       " 'reanalysis_precip_amt_kg_per_m2',\n",
       " 'reanalysis_relative_humidity_percent',\n",
       " 'reanalysis_sat_precip_amt_mm',\n",
       " 'reanalysis_specific_humidity_g_per_kg',\n",
       " 'reanalysis_tdtr_k',\n",
       " 'station_avg_temp_c',\n",
       " 'station_diur_temp_rng_c',\n",
       " 'station_max_temp_c',\n",
       " 'station_min_temp_c',\n",
       " 'station_precip_mm']"
      ]
     },
     "execution_count": 108,
     "metadata": {},
     "output_type": "execute_result"
    }
   ],
   "source": [
    "X_train_1 = pd.read_csv('data/dengue_features_train.csv')\n",
    "y_train = pd.read_csv('data/dengue_labels_train.csv')['total_cases']\n",
    "attr = list(X_train_1)\n",
    "attr"
   ]
  },
  {
   "cell_type": "markdown",
   "metadata": {},
   "source": [
    "### Splitting the cities"
   ]
  },
  {
   "cell_type": "code",
   "execution_count": 109,
   "metadata": {},
   "outputs": [
    {
     "data": {
      "text/plain": [
       "((936, 20), (936,), (520, 24), (520,))"
      ]
     },
     "execution_count": 109,
     "metadata": {},
     "output_type": "execute_result"
    }
   ],
   "source": [
    "sj = X_train_1['city'] == 'sj'\n",
    "X_sj_1, y_sj = X_train_1[sj], y_train[sj]\n",
    "X_iq_1, y_iq = X_train_1[-sj], y_train[-sj]\n",
    "\n",
    "X_sj_1.shape, y_sj.shape, X_iq_1.shape, y_iq.shape"
   ]
  },
  {
   "cell_type": "markdown",
   "metadata": {},
   "source": [
    "## Feature selection\n",
    "* Our plan ahead isto use recurrent neural networks, but in order to have less intensive training we want to remove useless features first\n",
    "* The `mlp_optim` we are using is the best from the sklearn implementations above\n",
    "* We can't apply Variance threshold because our attributes have very differente range of values\n",
    "* In the `f_regression` test, attributes with a p-value above 0.05 is too high and could be removed. As we can see at least 4 should clearly be removed."
   ]
  },
  {
   "cell_type": "markdown",
   "metadata": {},
   "source": [
    "### Pvalues"
   ]
  },
  {
   "cell_type": "code",
   "execution_count": 110,
   "metadata": {},
   "outputs": [
    {
     "name": "stderr",
     "output_type": "stream",
     "text": [
      "/Users/miguellobo/Development/UMinho-AA2/.env/lib/python3.7/site-packages/numpy/lib/nanfunctions.py:1076: RuntimeWarning: Mean of empty slice\n",
      "  return np.nanmean(a, axis, out=out, keepdims=keepdims)\n",
      "/Users/miguellobo/Development/UMinho-AA2/.env/lib/python3.7/site-packages/numpy/lib/nanfunctions.py:1076: RuntimeWarning: Mean of empty slice\n",
      "  return np.nanmean(a, axis, out=out, keepdims=keepdims)\n"
     ]
    },
    {
     "data": {
      "text/plain": [
       "((936, 20), (520, 20))"
      ]
     },
     "execution_count": 110,
     "metadata": {},
     "output_type": "execute_result"
    }
   ],
   "source": [
    "%autoreload\n",
    "from utils.OurPipeline import create_pipeline\n",
    "pipeline_sj = create_pipeline(attr)\n",
    "X_sj = pipeline_sj.fit_transform(X_sj_1)\n",
    "pipeline_iq = create_pipeline(attr)\n",
    "X_iq = pipeline_iq.fit_transform(X_iq_1)\n",
    "X_sj.shape, X_iq.shape"
   ]
  },
  {
   "cell_type": "code",
   "execution_count": 111,
   "metadata": {},
   "outputs": [
    {
     "data": {
      "text/plain": [
       "(9, 7)"
      ]
     },
     "execution_count": 111,
     "metadata": {},
     "output_type": "execute_result"
    }
   ],
   "source": [
    "from sklearn.feature_selection import SelectKBest, f_regression\n",
    "\n",
    "epsilon = 5e-2\n",
    "\n",
    "n_iq = sum(f_regression(X_iq, y_iq)[1] > epsilon)\n",
    "n_sj = sum(f_regression(X_sj, y_sj)[1] > epsilon)\n",
    "n_sj, n_iq"
   ]
  },
  {
   "cell_type": "markdown",
   "metadata": {},
   "source": [
    "#### Removal"
   ]
  },
  {
   "cell_type": "code",
   "execution_count": 112,
   "metadata": {},
   "outputs": [
    {
     "name": "stderr",
     "output_type": "stream",
     "text": [
      "/Users/miguellobo/Development/UMinho-AA2/.env/lib/python3.7/site-packages/numpy/lib/nanfunctions.py:1076: RuntimeWarning: Mean of empty slice\n",
      "  return np.nanmean(a, axis, out=out, keepdims=keepdims)\n",
      "/Users/miguellobo/Development/UMinho-AA2/.env/lib/python3.7/site-packages/numpy/lib/nanfunctions.py:1076: RuntimeWarning: Mean of empty slice\n",
      "  return np.nanmean(a, axis, out=out, keepdims=keepdims)\n"
     ]
    },
    {
     "data": {
      "text/plain": [
       "((936, 13), (520, 11))"
      ]
     },
     "execution_count": 112,
     "metadata": {},
     "output_type": "execute_result"
    }
   ],
   "source": [
    "%autoreload\n",
    "from utils.OurPipeline import create_pipeline\n",
    "pipeline_sj = create_pipeline(attr, k_best=M - n_sj)\n",
    "X_sj = pipeline_sj.fit_transform(X_sj_1, y_sj)\n",
    "\n",
    "pipeline_iq = create_pipeline(attr, k_best=M - n_iq)\n",
    "X_iq = pipeline_iq.fit_transform(X_iq_1, y_iq)\n",
    "X_sj.shape, X_iq.shape"
   ]
  },
  {
   "cell_type": "markdown",
   "metadata": {},
   "source": [
    "#### Correlation removal\n",
    "* Given that in the analysis notebook we could see there are many attributes with a lot of correlation we implemented a transformer (`CorrelationDeleter`) to remove one of each pair."
   ]
  },
  {
   "cell_type": "code",
   "execution_count": 151,
   "metadata": {},
   "outputs": [
    {
     "name": "stderr",
     "output_type": "stream",
     "text": [
      "/Users/miguellobo/Development/UMinho-AA2/.env/lib/python3.7/site-packages/numpy/lib/nanfunctions.py:1076: RuntimeWarning: Mean of empty slice\n",
      "  return np.nanmean(a, axis, out=out, keepdims=keepdims)\n",
      "/Users/miguellobo/Development/UMinho-AA2/.env/lib/python3.7/site-packages/numpy/lib/nanfunctions.py:1076: RuntimeWarning: Mean of empty slice\n",
      "  return np.nanmean(a, axis, out=out, keepdims=keepdims)\n"
     ]
    },
    {
     "data": {
      "text/plain": [
       "((936, 8), (520, 9))"
      ]
     },
     "execution_count": 151,
     "metadata": {},
     "output_type": "execute_result"
    }
   ],
   "source": [
    "%autoreload\n",
    "from utils.OurPipeline import create_pipeline\n",
    "pipeline_sj = create_pipeline(attr, k_best=M - n_sj, threshold_corr=0.9)\n",
    "X_sj = pipeline_sj.fit_transform(X_sj_1, y_sj)\n",
    "\n",
    "pipeline_iq = create_pipeline(attr, k_best=M - n_iq, threshold_corr=0.9)\n",
    "X_iq = pipeline_iq.fit_transform(X_iq_1, y_iq)\n",
    "X_sj.shape, X_iq.shape"
   ]
  },
  {
   "cell_type": "markdown",
   "metadata": {},
   "source": [
    "## Transforming the data into time sequences\n",
    "* We had to create our own sequence generator because Keras one didn't allow multiple targets per sequence."
   ]
  },
  {
   "cell_type": "code",
   "execution_count": 310,
   "metadata": {},
   "outputs": [
    {
     "data": {
      "text/plain": [
       "array([[ 0.38680303, -1.28201547,  0.04502094, -1.53847521,  0.22876173,\n",
       "        -1.10040935, -1.27868676, -1.72305369],\n",
       "       [-0.2408734 , -0.76563752, -0.35088608, -0.35523625, -0.28767639,\n",
       "        -0.20144297,  0.05994233, -0.26172249],\n",
       "       [-0.33047568, -0.30470955, -0.12111358,  1.02943204, -0.43113142,\n",
       "        -0.20144297,  0.35094865,  0.13682239],\n",
       "       [ 0.89194719, -0.1383596 , -0.46464599,  0.52226931, -0.17291236,\n",
       "         0.33389656,  0.99116256,  0.46894311],\n",
       "       [ 1.30273192,  0.29137776, -0.51251525,  0.55858571,  1.00341892,\n",
       "         1.37427338,  1.98058407,  0.86748799],\n",
       "       [ 1.35684147,  0.38148398, -0.11013181,  0.39051679, -0.83280552,\n",
       "         0.78843012,  1.63137648,  0.86748799],\n",
       "       [ 0.5012683 ,  0.03954242,  0.23086634,  1.01380755, -0.94756954,\n",
       "         0.29349357,  0.35094865,  0.46894311],\n",
       "       [-0.43000752,  0.35029336, -0.01129585,  1.42046676, -1.89437277,\n",
       "         0.97024355,  1.34037015,  0.13682239],\n",
       "       [-0.88000834,  0.33989649,  0.20017369,  1.24099618, -1.26317062,\n",
       "         0.93994131,  1.34037015,  0.13682239],\n",
       "       [-0.26995492,  0.80544529, -0.05634928,  0.80139884, -1.00495156,\n",
       "         0.93994131,  1.34037015,  1.19960872]])"
      ]
     },
     "execution_count": 310,
     "metadata": {},
     "output_type": "execute_result"
    }
   ],
   "source": [
    "X_sj[:10]"
   ]
  },
  {
   "cell_type": "code",
   "execution_count": 316,
   "metadata": {},
   "outputs": [
    {
     "data": {
      "text/plain": [
       "array([[-0.33047568, -0.30470955, -0.12111358, ..., -0.20144297,\n",
       "         0.35094865,  0.13682239],\n",
       "       [ 0.89194719, -0.1383596 , -0.46464599, ...,  0.33389656,\n",
       "         0.99116256,  0.46894311],\n",
       "       [ 1.30273192,  0.29137776, -0.51251525, ...,  1.37427338,\n",
       "         1.98058407,  0.86748799],\n",
       "       ...,\n",
       "       [ 1.45835749, -1.07407804, -0.30414314, ..., -0.24184596,\n",
       "         0.70015624, -0.99238809],\n",
       "       [ 0.77007863, -1.33168941, -0.78001999, ..., -0.47416311,\n",
       "        -0.28926526, -0.59384322],\n",
       "       [ 0.66583134, -0.29893351, -0.74059824, ...,  0.59651595,\n",
       "         1.63137648, -0.26172249]])"
      ]
     },
     "execution_count": 316,
     "metadata": {},
     "output_type": "execute_result"
    }
   ],
   "source": [
    "%autoreload\n",
    "from utils.OurTimeSequenceGenerator import generate_time_sequence\n",
    "x,y = generate_time_sequence(X_sj, y_sj, 260)\n",
    "x.shape, y.shape"
   ]
  },
  {
   "cell_type": "code",
   "execution_count": 302,
   "metadata": {},
   "outputs": [
    {
     "name": "stdout",
     "output_type": "stream",
     "text": [
      "500/500 [==============================] - 226s 453ms/step - loss: 28.4456\n"
     ]
    }
   ],
   "source": [
    "from tensorflow.keras.models import Sequential\n",
    "from tensorflow.keras import layers\n",
    "from tensorflow.keras.optimizers import RMSprop\n",
    "\n",
    "model = Sequential()\n",
    "model.add(layers.GRU(32, input_shape=(None, x.shape[2])))\n",
    "model.add(layers.Dense(x.shape[1]))\n",
    "\n",
    "model.compile(optimizer=RMSprop(), loss='mae')\n",
    "history = model.fit(x, y,\n",
    "                  steps_per_epoch=500,\n",
    "                  epochs=1)"
   ]
  },
  {
   "cell_type": "code",
   "execution_count": 309,
   "metadata": {},
   "outputs": [
    {
     "data": {
      "text/plain": [
       "41.026444240716785"
      ]
     },
     "execution_count": 309,
     "metadata": {},
     "output_type": "execute_result"
    }
   ],
   "source": [
    "from sklearn.metrics import mean_absolute_error\n",
    "#mean_absolute_error(model.predict(x[0].reshape(1,260,8))) \n",
    "mean_absolute_error(model.predict(x[10].reshape(1,260,8))[0], y[1])"
   ]
  },
  {
   "cell_type": "markdown",
   "metadata": {},
   "source": [
    "# Loading & preparing test data"
   ]
  },
  {
   "cell_type": "code",
   "execution_count": 153,
   "metadata": {},
   "outputs": [
    {
     "name": "stdout",
     "output_type": "stream",
     "text": [
      "(416, 24)\n"
     ]
    }
   ],
   "source": [
    "X_test_1 = pd.read_csv('data/dengue_features_test.csv')\n",
    "print(X_test_1.shape)"
   ]
  },
  {
   "cell_type": "code",
   "execution_count": 154,
   "metadata": {},
   "outputs": [
    {
     "data": {
      "text/plain": [
       "((260, 24), (156, 24))"
      ]
     },
     "execution_count": 154,
     "metadata": {},
     "output_type": "execute_result"
    }
   ],
   "source": [
    "sj = X_test_1['city'] == 'sj'\n",
    "X_test_sj_1 = X_test_1[sj]\n",
    "X_test_iq_1 = X_test_1[-sj]\n",
    "\n",
    "X_test_sj_1.shape, X_test_iq_1.shape"
   ]
  },
  {
   "cell_type": "code",
   "execution_count": 155,
   "metadata": {},
   "outputs": [
    {
     "data": {
      "text/plain": [
       "((260, 8), (156, 9))"
      ]
     },
     "execution_count": 155,
     "metadata": {},
     "output_type": "execute_result"
    }
   ],
   "source": [
    "X_test_sj = pipeline_sj.transform(X_test_sj_1)\n",
    "X_test_iq = pipeline_iq.transform(X_test_iq_1)\n",
    "\n",
    "X_test_sj.shape, X_test_iq.shape"
   ]
  }
 ],
 "metadata": {
  "kernelspec": {
   "display_name": "Python 3",
   "language": "python",
   "name": "python3"
  },
  "language_info": {
   "codemirror_mode": {
    "name": "ipython",
    "version": 3
   },
   "file_extension": ".py",
   "mimetype": "text/x-python",
   "name": "python",
   "nbconvert_exporter": "python",
   "pygments_lexer": "ipython3",
   "version": "3.7.2"
  }
 },
 "nbformat": 4,
 "nbformat_minor": 2
}
